{
 "cells": [
  {
   "cell_type": "code",
   "execution_count": 10,
   "id": "6825d893",
   "metadata": {},
   "outputs": [
    {
     "data": {
      "text/plain": [
       "50"
      ]
     },
     "execution_count": 10,
     "metadata": {},
     "output_type": "execute_result"
    }
   ],
   "source": [
    "def summation(a,b):\n",
    "    return a+b\n",
    "summation(45,5)"
   ]
  },
  {
   "cell_type": "code",
   "execution_count": 11,
   "id": "f03c9036",
   "metadata": {},
   "outputs": [
    {
     "data": {
      "text/plain": [
       "<function __main__.passs()>"
      ]
     },
     "execution_count": 11,
     "metadata": {},
     "output_type": "execute_result"
    }
   ],
   "source": [
    "def passs():\n",
    "    return \"sfsdfdsfd\"\n",
    "passs"
   ]
  },
  {
   "cell_type": "code",
   "execution_count": 12,
   "id": "6a798ea0",
   "metadata": {},
   "outputs": [
    {
     "data": {
      "text/plain": [
       "'sfsdfdsfd'"
      ]
     },
     "execution_count": 12,
     "metadata": {},
     "output_type": "execute_result"
    }
   ],
   "source": [
    "passs()"
   ]
  },
  {
   "cell_type": "code",
   "execution_count": 36,
   "id": "d883a21b",
   "metadata": {},
   "outputs": [
    {
     "name": "stdout",
     "output_type": "stream",
     "text": [
      "31.25\n"
     ]
    }
   ],
   "source": [
    "import builtins\n",
    "def percent(marks):\n",
    "    return ((builtins.sum(marks)/400)*100)\n",
    "\n",
    "marks1=[23,43,5,54]\n",
    "percentage1=percent(marks1)\n",
    "\n",
    "print(percentage1)"
   ]
  },
  {
   "cell_type": "code",
   "execution_count": 35,
   "id": "8a7344d6",
   "metadata": {},
   "outputs": [
    {
     "name": "stdout",
     "output_type": "stream",
     "text": [
      "18\n"
     ]
    }
   ],
   "source": [
    "import builtins\n",
    "num=[1,2,3,1,5,6]\n",
    "Sum=builtins.sum(num)\n",
    "print(Sum)"
   ]
  },
  {
   "cell_type": "code",
   "execution_count": 44,
   "id": "e6f862fa",
   "metadata": {},
   "outputs": [
    {
     "data": {
      "text/plain": [
       "4"
      ]
     },
     "execution_count": 44,
     "metadata": {},
     "output_type": "execute_result"
    }
   ],
   "source": [
    "a=lambda x: x**2\n",
    "a(2)"
   ]
  },
  {
   "cell_type": "code",
   "execution_count": 49,
   "id": "1d933956",
   "metadata": {},
   "outputs": [
    {
     "data": {
      "text/plain": [
       "4"
      ]
     },
     "execution_count": 49,
     "metadata": {},
     "output_type": "execute_result"
    }
   ],
   "source": [
    "def s():\n",
    "    a=lambda x: x**2\n",
    "    return a(2)\n",
    "s()"
   ]
  },
  {
   "cell_type": "code",
   "execution_count": null,
   "id": "3f13e872",
   "metadata": {},
   "outputs": [],
   "source": []
  },
  {
   "cell_type": "code",
   "execution_count": null,
   "id": "31ee5e60",
   "metadata": {},
   "outputs": [],
   "source": []
  },
  {
   "cell_type": "code",
   "execution_count": null,
   "id": "8dc859a5",
   "metadata": {},
   "outputs": [],
   "source": []
  }
 ],
 "metadata": {
  "kernelspec": {
   "display_name": "Python 3 (ipykernel)",
   "language": "python",
   "name": "python3"
  },
  "language_info": {
   "codemirror_mode": {
    "name": "ipython",
    "version": 3
   },
   "file_extension": ".py",
   "mimetype": "text/x-python",
   "name": "python",
   "nbconvert_exporter": "python",
   "pygments_lexer": "ipython3",
   "version": "3.9.12"
  }
 },
 "nbformat": 4,
 "nbformat_minor": 5
}
