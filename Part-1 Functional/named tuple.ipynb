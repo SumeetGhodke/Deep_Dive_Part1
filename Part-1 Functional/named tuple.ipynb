{
 "cells": [
  {
   "cell_type": "raw",
   "id": "eb7253b3",
   "metadata": {},
   "source": [
    "A named tuple in Python is a subclass of a regular tuple that allows you to assign names to each position in the tuple. It is similar to a dictionary, but it is immutable like a tuple."
   ]
  },
  {
   "cell_type": "code",
   "execution_count": 1,
   "id": "d502657c",
   "metadata": {},
   "outputs": [
    {
     "name": "stdout",
     "output_type": "stream",
     "text": [
      "john\n"
     ]
    }
   ],
   "source": [
    "from collections import namedtuple\n",
    "\n",
    "Person=namedtuple('Person',['name','age'])\n",
    "Person1=Person(name='john',age=30)\n",
    "\n",
    "print(Person1.name)"
   ]
  },
  {
   "cell_type": "code",
   "execution_count": 4,
   "id": "5aef9d72",
   "metadata": {},
   "outputs": [
    {
     "data": {
      "text/plain": [
       "30"
      ]
     },
     "execution_count": 4,
     "metadata": {},
     "output_type": "execute_result"
    }
   ],
   "source": [
    "Person1.age\n"
   ]
  },
  {
   "cell_type": "raw",
   "id": "53d4a125",
   "metadata": {},
   "source": [
    "1.  A tuple is formed with two fields 'name' and 'age'\n",
    "2.  then created an instance called Person1\n",
    "3.  Named tuples are useful for cases where you need to         group a small number of values together and want to give     each value a descriptive name. .\n",
    "4.  "
   ]
  },
  {
   "cell_type": "code",
   "execution_count": 5,
   "id": "9fe04117",
   "metadata": {},
   "outputs": [
    {
     "name": "stdout",
     "output_type": "stream",
     "text": [
      "254\n"
     ]
    }
   ],
   "source": [
    "\n",
    "color=(254,48,45)\n",
    "print(color[0])"
   ]
  },
  {
   "cell_type": "code",
   "execution_count": 17,
   "id": "e42f586d",
   "metadata": {},
   "outputs": [
    {
     "name": "stdout",
     "output_type": "stream",
     "text": [
      "254\n"
     ]
    }
   ],
   "source": [
    "Color=namedtuple('Color',['red','green','blue'])\n",
    "color=Color(254,48,45)\n",
    "print(color.red)"
   ]
  },
  {
   "cell_type": "raw",
   "id": "fc1022fa",
   "metadata": {},
   "source": [
    "namedtuples are used to increase the code read ability"
   ]
  },
  {
   "cell_type": "code",
   "execution_count": 18,
   "id": "4b47e059",
   "metadata": {},
   "outputs": [
    {
     "name": "stdout",
     "output_type": "stream",
     "text": [
      "255\n"
     ]
    }
   ],
   "source": [
    "white=Color(255,255,255)\n",
    "print(white.green)"
   ]
  },
  {
   "cell_type": "code",
   "execution_count": 20,
   "id": "caa09bbc",
   "metadata": {},
   "outputs": [
    {
     "data": {
      "text/plain": [
       "220"
      ]
     },
     "execution_count": 20,
     "metadata": {},
     "output_type": "execute_result"
    }
   ],
   "source": [
    "orange=Color(225,125,220)\n",
    "orange.blue"
   ]
  },
  {
   "cell_type": "code",
   "execution_count": null,
   "id": "4d7f94b5",
   "metadata": {},
   "outputs": [],
   "source": []
  }
 ],
 "metadata": {
  "kernelspec": {
   "display_name": "Python 3 (ipykernel)",
   "language": "python",
   "name": "python3"
  },
  "language_info": {
   "codemirror_mode": {
    "name": "ipython",
    "version": 3
   },
   "file_extension": ".py",
   "mimetype": "text/x-python",
   "name": "python",
   "nbconvert_exporter": "python",
   "pygments_lexer": "ipython3",
   "version": "3.9.12"
  }
 },
 "nbformat": 4,
 "nbformat_minor": 5
}
