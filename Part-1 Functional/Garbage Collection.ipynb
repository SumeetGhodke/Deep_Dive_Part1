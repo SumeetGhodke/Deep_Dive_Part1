{
 "cells": [
  {
   "cell_type": "code",
   "execution_count": 1,
   "id": "eff7e7be",
   "metadata": {},
   "outputs": [],
   "source": [
    "# A garbage collection in Python manages the memory automatically and heap allocation. In simpler terms, the process of\n",
    "# automatic deletion of unwanted or unused objects to free the memory is called garbage collection in Python."
   ]
  },
  {
   "cell_type": "markdown",
   "id": "48ed9f70",
   "metadata": {},
   "source": [
    "# Memory Management And Garbage Collection In Python"
   ]
  },
  {
   "cell_type": "markdown",
   "id": "f30b817c",
   "metadata": {},
   "source": [
    "What is garbage collection?"
   ]
  },
  {
   "cell_type": "raw",
   "id": "17d01373",
   "metadata": {},
   "source": [
    "Garbage collection is to release memory when the object is no longer in use. This system destroys the unused object and reuses its memory slot for new objects."
   ]
  },
  {
   "cell_type": "markdown",
   "id": "0d25d71a",
   "metadata": {},
   "source": [
    "#  Python has two ways to delete the unused objects from the memory.\n",
    "\n"
   ]
  },
  {
   "cell_type": "markdown",
   "id": "7ba7acac",
   "metadata": {},
   "source": [
    "# 1. Reference counting\n",
    "# 2. Generational Garbage Collection"
   ]
  },
  {
   "cell_type": "markdown",
   "id": "f6190123",
   "metadata": {},
   "source": [
    "There is a problem!\n",
    "The most important issue in reference counting garbage collection is that it doesn’t work in cyclical references."
   ]
  },
  {
   "cell_type": "markdown",
   "id": "e4b5eaa0",
   "metadata": {},
   "source": [
    "# What is Cyclical reference"
   ]
  },
  {
   "cell_type": "raw",
   "id": "e5a127ee",
   "metadata": {},
   "source": [
    "It is a situation in which an object refers to itself. The simplest cyclical reference is appending a list to itself."
   ]
  },
  {
   "cell_type": "code",
   "execution_count": 4,
   "id": "a277fe5f",
   "metadata": {},
   "outputs": [
    {
     "data": {
      "text/plain": [
       "[[...]]"
      ]
     },
     "execution_count": 4,
     "metadata": {},
     "output_type": "execute_result"
    }
   ],
   "source": [
    "a=[]\n",
    "a.append(a)\n",
    "a"
   ]
  },
  {
   "cell_type": "raw",
   "id": "e728a05c",
   "metadata": {},
   "source": [
    "Reference counting alone can not destroy objects with cyclic references. If the reference count is not zero, the object cannot be deleted."
   ]
  },
  {
   "cell_type": "raw",
   "id": "9ea5aa06",
   "metadata": {},
   "source": [
    "Generational garbage collection is a type of trace-based garbage collection. It can break cyclic references and delete the unused objects even if they are referred by themselves."
   ]
  },
  {
   "cell_type": "raw",
   "id": "79ab1066",
   "metadata": {},
   "source": [
    "\"\"\"Newly created objects are put in the Generation 0 list. A list is created for objects to discard. \n",
    "Reference cycles are detected. If an object has no outside references it is discarded. The objects who\n",
    "survived after this process are put in the Generation 1 list. The same steps are applied to the Generation 1 list. \n",
    "Survivals from the Generation 1 list are put in the Generation 2 list. The objects in the Generation 2 list stay \n",
    "there until the end of the program execution.\"\"\""
   ]
  },
  {
   "cell_type": "code",
   "execution_count": null,
   "id": "50353b72",
   "metadata": {},
   "outputs": [],
   "source": []
  }
 ],
 "metadata": {
  "kernelspec": {
   "display_name": "Python 3 (ipykernel)",
   "language": "python",
   "name": "python3"
  },
  "language_info": {
   "codemirror_mode": {
    "name": "ipython",
    "version": 3
   },
   "file_extension": ".py",
   "mimetype": "text/x-python",
   "name": "python",
   "nbconvert_exporter": "python",
   "pygments_lexer": "ipython3",
   "version": "3.9.12"
  }
 },
 "nbformat": 4,
 "nbformat_minor": 5
}
