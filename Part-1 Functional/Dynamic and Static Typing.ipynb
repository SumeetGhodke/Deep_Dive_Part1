{
 "cells": [
  {
   "cell_type": "markdown",
   "id": "ced14a9b",
   "metadata": {},
   "source": [
    "# Static Typing"
   ]
  },
  {
   "cell_type": "raw",
   "id": "68e50f2b",
   "metadata": {},
   "source": [
    ". In Static Typing, type checking is performed during compile time. It means that the type of a variable is \n",
    "known at compile time. For some languages, the programmer must specify what type each variable is (e.g C, C++, Java),\n",
    "other languages offer some form of type inference(e.g. Scala, Haskell)."
   ]
  },
  {
   "cell_type": "raw",
   "id": "d3515b88",
   "metadata": {},
   "source": [
    "String car='tesla'\n",
    "\n",
    "in java\n",
    "\n",
    " if we say, a =5, the compiler would raise an error because of incompatible types."
   ]
  },
  {
   "cell_type": "markdown",
   "id": "0e4c7698",
   "metadata": {},
   "source": [
    "# Dynamic Typing"
   ]
  },
  {
   "cell_type": "raw",
   "id": "3a5316f5",
   "metadata": {},
   "source": [
    "In Dynamic Typing, type checking is performed at runtime. For example, Python is a dynamically typed language. \n",
    "It means that the type of a variable is allowed to change over its lifetime. Other dynamically typed languages \n",
    "are -Perl, Ruby, PHP, Javascript etc."
   ]
  },
  {
   "cell_type": "code",
   "execution_count": 2,
   "id": "e6763061",
   "metadata": {},
   "outputs": [
    {
     "data": {
      "text/plain": [
       "int"
      ]
     },
     "execution_count": 2,
     "metadata": {},
     "output_type": "execute_result"
    }
   ],
   "source": [
    "a=45\n",
    "type(a)"
   ]
  },
  {
   "cell_type": "code",
   "execution_count": 3,
   "id": "f2ba14f8",
   "metadata": {},
   "outputs": [],
   "source": [
    "a=None"
   ]
  },
  {
   "cell_type": "code",
   "execution_count": 4,
   "id": "36f50ab2",
   "metadata": {},
   "outputs": [
    {
     "data": {
      "text/plain": [
       "NoneType"
      ]
     },
     "execution_count": 4,
     "metadata": {},
     "output_type": "execute_result"
    }
   ],
   "source": [
    "type(a)"
   ]
  },
  {
   "cell_type": "code",
   "execution_count": 6,
   "id": "527c3af9",
   "metadata": {},
   "outputs": [
    {
     "data": {
      "text/plain": [
       "str"
      ]
     },
     "execution_count": 6,
     "metadata": {},
     "output_type": "execute_result"
    }
   ],
   "source": [
    "a=\"dfsdfs\"\n",
    "type(a)"
   ]
  },
  {
   "cell_type": "code",
   "execution_count": null,
   "id": "fe648ec6",
   "metadata": {},
   "outputs": [],
   "source": []
  }
 ],
 "metadata": {
  "kernelspec": {
   "display_name": "Python 3 (ipykernel)",
   "language": "python",
   "name": "python3"
  },
  "language_info": {
   "codemirror_mode": {
    "name": "ipython",
    "version": 3
   },
   "file_extension": ".py",
   "mimetype": "text/x-python",
   "name": "python",
   "nbconvert_exporter": "python",
   "pygments_lexer": "ipython3",
   "version": "3.9.12"
  }
 },
 "nbformat": 4,
 "nbformat_minor": 5
}
