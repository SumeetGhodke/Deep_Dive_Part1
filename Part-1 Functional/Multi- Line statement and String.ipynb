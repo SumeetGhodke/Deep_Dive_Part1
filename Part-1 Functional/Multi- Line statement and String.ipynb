{
 "cells": [
  {
   "cell_type": "code",
   "execution_count": 4,
   "id": "670556fa",
   "metadata": {},
   "outputs": [],
   "source": [
    "a = [1, \n",
    "    2, \n",
    "    3]\n"
   ]
  },
  {
   "cell_type": "code",
   "execution_count": 5,
   "id": "d1651cc2",
   "metadata": {},
   "outputs": [
    {
     "data": {
      "text/plain": [
       "[1, 2, 3]"
      ]
     },
     "execution_count": 5,
     "metadata": {},
     "output_type": "execute_result"
    }
   ],
   "source": [
    "a"
   ]
  },
  {
   "cell_type": "code",
   "execution_count": 6,
   "id": "6268fa8b",
   "metadata": {},
   "outputs": [],
   "source": [
    "a = [1, # this is first element  \n",
    "    2, \n",
    "    3]\n",
    "\n"
   ]
  },
  {
   "cell_type": "code",
   "execution_count": 7,
   "id": "d3cf523d",
   "metadata": {},
   "outputs": [
    {
     "data": {
      "text/plain": [
       "[1, 2, 3]"
      ]
     },
     "execution_count": 7,
     "metadata": {},
     "output_type": "execute_result"
    }
   ],
   "source": [
    "a"
   ]
  },
  {
   "cell_type": "code",
   "execution_count": 9,
   "id": "0f8724ab",
   "metadata": {},
   "outputs": [],
   "source": [
    "# a = [1  #this is first element, \n",
    "#     2, \n",
    "#     3]\n",
    "\n",
    "# this will through an error as \" , \" is interpreted as a comment not the seperator"
   ]
  },
  {
   "cell_type": "markdown",
   "id": "46435b58",
   "metadata": {},
   "source": [
    "#### This is applicable for  list , tuples, dictionary, function, sets"
   ]
  },
  {
   "cell_type": "code",
   "execution_count": 10,
   "id": "ec4cf838",
   "metadata": {},
   "outputs": [
    {
     "data": {
      "text/plain": [
       "(1, 2, 3)"
      ]
     },
     "execution_count": 10,
     "metadata": {},
     "output_type": "execute_result"
    }
   ],
   "source": [
    "\n",
    "\n",
    "a = (1, # this is first element  \n",
    "    2, \n",
    "    3)\n",
    "a"
   ]
  },
  {
   "cell_type": "code",
   "execution_count": 12,
   "id": "9e9e7e70",
   "metadata": {},
   "outputs": [
    {
     "ename": "SyntaxError",
     "evalue": "unexpected EOF while parsing (3059627816.py, line 5)",
     "output_type": "error",
     "traceback": [
      "\u001b[1;36m  Input \u001b[1;32mIn [12]\u001b[1;36m\u001b[0m\n\u001b[1;33m    ## this will through an error beause \"}\" will be interpreted as a comment\u001b[0m\n\u001b[1;37m                                                                             ^\u001b[0m\n\u001b[1;31mSyntaxError\u001b[0m\u001b[1;31m:\u001b[0m unexpected EOF while parsing\n"
     ]
    }
   ],
   "source": [
    "a = {'key1': 'value1', #comment,\n",
    "    'key2': #comment\n",
    "    'value2' #comment }\n",
    "     \n",
    "## this will through an error beause \"}\" will be interpreted as a comment"
   ]
  },
  {
   "cell_type": "code",
   "execution_count": 17,
   "id": "b6010375",
   "metadata": {},
   "outputs": [
    {
     "data": {
      "text/plain": [
       "{'key1': 'Sumeet', 'key2': 'Ghodke'}"
      ]
     },
     "execution_count": 17,
     "metadata": {},
     "output_type": "execute_result"
    }
   ],
   "source": [
    "a = {'key1': 'Sumeet', #comment,\n",
    "    'key2': #comment\n",
    "    'Ghodke' #comment \n",
    "    }\n",
    "a"
   ]
  },
  {
   "cell_type": "code",
   "execution_count": 13,
   "id": "ba32752f",
   "metadata": {},
   "outputs": [
    {
     "data": {
      "text/plain": [
       "{1, 2, 3}"
      ]
     },
     "execution_count": 13,
     "metadata": {},
     "output_type": "execute_result"
    }
   ],
   "source": [
    "a = {1, # this is first element  \n",
    "    2, \n",
    "    3}\n",
    "a"
   ]
  },
  {
   "cell_type": "code",
   "execution_count": 19,
   "id": "83c9a0c4",
   "metadata": {},
   "outputs": [],
   "source": [
    "def func(a,# this is a function\n",
    "         b,c):\n",
    "    print(a+b+c)\n"
   ]
  },
  {
   "cell_type": "code",
   "execution_count": 21,
   "id": "2c42c972",
   "metadata": {},
   "outputs": [
    {
     "name": "stdout",
     "output_type": "stream",
     "text": [
      "yesssss\n",
      "yes!!\n"
     ]
    }
   ],
   "source": [
    "a = 10\n",
    "b = 20\n",
    "c = 30\n",
    "if a > 5 and b > 10 and c > 20:\n",
    "    print(\"yesssss\")\n",
    "    \n",
    "if a > 5 \\\n",
    "    and b > 10 \\\n",
    "    and c > 20:\n",
    "    print('yes!!')\n",
    "    \n",
    "## for better readbility"
   ]
  },
  {
   "cell_type": "code",
   "execution_count": 22,
   "id": "a6d80403",
   "metadata": {},
   "outputs": [],
   "source": [
    "a=\"\"\"sdfiusdhfsiduf \n",
    "sdfuhsdf idhfd\n",
    "fdoifhosidhf fsdfs         sdfsd\n",
    "fdfsdfhadish\"\"\""
   ]
  },
  {
   "cell_type": "code",
   "execution_count": 25,
   "id": "06916d69",
   "metadata": {},
   "outputs": [
    {
     "data": {
      "text/plain": [
       "'sdfiusdhfsiduf \\nsdfuhsdf idhfd\\nfdoifhosidhf fsdfs         sdfsd\\nfdfsdfhadish'"
      ]
     },
     "execution_count": 25,
     "metadata": {},
     "output_type": "execute_result"
    }
   ],
   "source": [
    "a\n"
   ]
  },
  {
   "cell_type": "code",
   "execution_count": 26,
   "id": "e5feaf48",
   "metadata": {},
   "outputs": [
    {
     "name": "stdout",
     "output_type": "stream",
     "text": [
      "sdfiusdhfsiduf \n",
      "sdfuhsdf idhfd\n",
      "fdoifhosidhf fsdfs         sdfsd\n",
      "fdfsdfhadish\n"
     ]
    }
   ],
   "source": [
    "print(a)"
   ]
  },
  {
   "cell_type": "code",
   "execution_count": 29,
   "id": "9889349d",
   "metadata": {},
   "outputs": [
    {
     "name": "stdout",
     "output_type": "stream",
     "text": [
      " This is my first vlog \n",
      "    and i am\n",
      "        very happy\n"
     ]
    }
   ],
   "source": [
    "def saa():\n",
    "    a=\"\"\" This is my first vlog \n",
    "    and i am\n",
    "        very happy\"\"\"\n",
    "    print(a)\n",
    "saa()"
   ]
  },
  {
   "cell_type": "code",
   "execution_count": null,
   "id": "5139965d",
   "metadata": {},
   "outputs": [],
   "source": []
  }
 ],
 "metadata": {
  "kernelspec": {
   "display_name": "Python 3 (ipykernel)",
   "language": "python",
   "name": "python3"
  },
  "language_info": {
   "codemirror_mode": {
    "name": "ipython",
    "version": 3
   },
   "file_extension": ".py",
   "mimetype": "text/x-python",
   "name": "python",
   "nbconvert_exporter": "python",
   "pygments_lexer": "ipython3",
   "version": "3.9.12"
  }
 },
 "nbformat": 4,
 "nbformat_minor": 5
}
