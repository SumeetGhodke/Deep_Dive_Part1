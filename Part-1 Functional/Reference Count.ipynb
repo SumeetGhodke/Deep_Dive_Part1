{
 "cells": [
  {
   "cell_type": "markdown",
   "id": "9f2e6976",
   "metadata": {},
   "source": [
    "<!-- Reference counting is one of the memory management technique in which the objects are deallocated when there is no reference to them in a program -->"
   ]
  },
  {
   "cell_type": "code",
   "execution_count": 1,
   "id": "ee1ca66c",
   "metadata": {},
   "outputs": [],
   "source": [
    "# Reference counting is one of the memory management technique in which the objects are deallocated when there is \n",
    "# no reference to them in a program"
   ]
  },
  {
   "cell_type": "code",
   "execution_count": 2,
   "id": "c39f8285",
   "metadata": {},
   "outputs": [],
   "source": [
    "# There are 2 ways to get the reference count of the object:\n",
    "\n",
    "# Using getrefcount from sys module\n",
    "# In Python, by default, variables are passed by reference. Hence, when we run sys.getrefcount(var1 to get the reference \n",
    "# count of var1, it creates another reference as to var1. So, keep in mind that it will always return one reference count extra.\n",
    "# In this case, it will return 2.\n",
    "\n",
    "# In this method, we pass the memory address of the variable. So, ctypes.c_long.from_address(id(var1)) returns the value 1 as \n",
    "# there is only one reference to the same object in the memory."
   ]
  },
  {
   "cell_type": "code",
   "execution_count": 3,
   "id": "3c12c3b8",
   "metadata": {},
   "outputs": [],
   "source": [
    "# sys.getrefcount()\n",
    "# Using c_long.from_address from ctypes module"
   ]
  },
  {
   "cell_type": "code",
   "execution_count": 4,
   "id": "2c58c4ae",
   "metadata": {},
   "outputs": [
    {
     "name": "stdout",
     "output_type": "stream",
     "text": [
      "my_var = 10\n",
      "memory address of my_var (decimal): 2130147699280\n",
      "memory address of my_var (hex): 0x1eff6b26a50\n"
     ]
    }
   ],
   "source": [
    "my_var = 10\n",
    "print('my_var = {0}'.format(my_var))\n",
    "print('memory address of my_var (decimal): {0}'.format(id(my_var)))\n",
    "print('memory address of my_var (hex): {0}'.format(hex(id(my_var))))"
   ]
  },
  {
   "cell_type": "code",
   "execution_count": null,
   "id": "552a918e",
   "metadata": {},
   "outputs": [],
   "source": [
    "# Strictly speaking, `my_var` is not \"equal\" to 10. \n",
    "\n",
    "# Instead `my_var` is a **reference** to an (*integer*) object (*containing the value 10*) located at the memory address\n",
    "# `id(my_var)`"
   ]
  },
  {
   "cell_type": "code",
   "execution_count": 5,
   "id": "6cff7e78",
   "metadata": {},
   "outputs": [],
   "source": [
    "import sys"
   ]
  },
  {
   "cell_type": "code",
   "execution_count": 11,
   "id": "ee884a57",
   "metadata": {},
   "outputs": [
    {
     "data": {
      "text/plain": [
       "1"
      ]
     },
     "execution_count": 11,
     "metadata": {},
     "output_type": "execute_result"
    }
   ],
   "source": [
    "sys.getrefcount(id(my_var))"
   ]
  },
  {
   "cell_type": "code",
   "execution_count": 8,
   "id": "64385fca",
   "metadata": {},
   "outputs": [
    {
     "data": {
      "text/plain": [
       "2130147699280"
      ]
     },
     "execution_count": 8,
     "metadata": {},
     "output_type": "execute_result"
    }
   ],
   "source": [
    "id(my_var)"
   ]
  },
  {
   "cell_type": "code",
   "execution_count": 9,
   "id": "c0a97550",
   "metadata": {},
   "outputs": [],
   "source": [
    "import ctypes"
   ]
  },
  {
   "cell_type": "code",
   "execution_count": 20,
   "id": "b303d0a4",
   "metadata": {},
   "outputs": [
    {
     "name": "stdout",
     "output_type": "stream",
     "text": [
      "1\n",
      "4485\n",
      "2300\n"
     ]
    }
   ],
   "source": [
    "def ref_count(address):\n",
    "    return ctypes.c_long.from_address(address).value\n",
    "\n",
    "my_vari = [1, 2, 3, 4]\n",
    "ask=12\n",
    "print(ref_count(id(my_vari)))\n",
    "print(ref_count(id(ask)))\n",
    "print(ref_count(id(my_var)))"
   ]
  },
  {
   "cell_type": "code",
   "execution_count": 30,
   "id": "05a8e5bb",
   "metadata": {},
   "outputs": [
    {
     "data": {
      "text/plain": [
       "1"
      ]
     },
     "execution_count": 30,
     "metadata": {},
     "output_type": "execute_result"
    }
   ],
   "source": [
    "ask=4545\n",
    "sys.getrefcount(id(ask))\n"
   ]
  },
  {
   "cell_type": "code",
   "execution_count": 31,
   "id": "576104fd",
   "metadata": {},
   "outputs": [
    {
     "data": {
      "text/plain": [
       "1"
      ]
     },
     "execution_count": 31,
     "metadata": {},
     "output_type": "execute_result"
    }
   ],
   "source": [
    "ref_count(id(ask))"
   ]
  },
  {
   "cell_type": "code",
   "execution_count": null,
   "id": "e5e80c4c",
   "metadata": {},
   "outputs": [],
   "source": []
  },
  {
   "cell_type": "code",
   "execution_count": null,
   "id": "7d4e4fea",
   "metadata": {},
   "outputs": [],
   "source": []
  }
 ],
 "metadata": {
  "kernelspec": {
   "display_name": "Python 3 (ipykernel)",
   "language": "python",
   "name": "python3"
  },
  "language_info": {
   "codemirror_mode": {
    "name": "ipython",
    "version": 3
   },
   "file_extension": ".py",
   "mimetype": "text/x-python",
   "name": "python",
   "nbconvert_exporter": "python",
   "pygments_lexer": "ipython3",
   "version": "3.9.12"
  }
 },
 "nbformat": 4,
 "nbformat_minor": 5
}
