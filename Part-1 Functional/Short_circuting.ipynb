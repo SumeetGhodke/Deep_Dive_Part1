{
 "cells": [
  {
   "cell_type": "raw",
   "id": "4e6fc28b",
   "metadata": {},
   "source": [
    "By short-circuiting, we mean the stoppage of execution of boolean operation if the truth value of expression has\n",
    "been determined already."
   ]
  },
  {
   "cell_type": "raw",
   "id": "86694a10",
   "metadata": {},
   "source": [
    "Short-Circuiting in all() and any()\n",
    "\n",
    "Inbuilt functions all() and any() in python also support short-circuiting. The example below would give you clear\n",
    "insight into how it works."
   ]
  },
  {
   "cell_type": "markdown",
   "id": "82d4c141",
   "metadata": {},
   "source": [
    "# all() in python"
   ]
  },
  {
   "cell_type": "code",
   "execution_count": 1,
   "id": "5943a7e9",
   "metadata": {},
   "outputs": [
    {
     "name": "stdout",
     "output_type": "stream",
     "text": [
      "True\n",
      "False\n",
      "False\n"
     ]
    }
   ],
   "source": [
    "# Here all the iterables are True so all\n",
    "# will return True and the same will be printed\n",
    "print (all([True, True, True, True]))\n",
    "\n",
    "# Here the method will short-circuit at the\n",
    "# first item (False) and will return False.\n",
    "print (all([False, True, True, False]))\n",
    "\n",
    "# This statement will return False, as no\n",
    "# True is found in the iterables\n",
    "print (all([False, False, False]))\n"
   ]
  },
  {
   "cell_type": "markdown",
   "id": "05d4a8ca",
   "metadata": {},
   "source": [
    "# any() in python"
   ]
  },
  {
   "cell_type": "code",
   "execution_count": 3,
   "id": "334b9fd9",
   "metadata": {},
   "outputs": [
    {
     "name": "stdout",
     "output_type": "stream",
     "text": [
      "False\n",
      "True\n",
      "True\n"
     ]
    }
   ],
   "source": [
    "# Since all are false, false is returned\n",
    "print (any([False, False, False, False]))\n",
    "\n",
    "# Here the method will short-circuit at the\n",
    "# second item (True) and will return True.\n",
    "print (any([False, True, False, False]))\n",
    "\n",
    "# Here the method will short-circuit at the\n",
    "# first (True) and will return True.\n",
    "print (any([True, False, False, False]))\n"
   ]
  },
  {
   "cell_type": "code",
   "execution_count": null,
   "id": "7f5eccc8",
   "metadata": {},
   "outputs": [],
   "source": []
  }
 ],
 "metadata": {
  "kernelspec": {
   "display_name": "Python 3 (ipykernel)",
   "language": "python",
   "name": "python3"
  },
  "language_info": {
   "codemirror_mode": {
    "name": "ipython",
    "version": 3
   },
   "file_extension": ".py",
   "mimetype": "text/x-python",
   "name": "python",
   "nbconvert_exporter": "python",
   "pygments_lexer": "ipython3",
   "version": "3.9.12"
  }
 },
 "nbformat": 4,
 "nbformat_minor": 5
}
