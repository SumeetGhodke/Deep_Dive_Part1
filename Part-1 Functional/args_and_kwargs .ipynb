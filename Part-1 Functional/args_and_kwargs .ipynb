{
 "cells": [
  {
   "cell_type": "code",
   "execution_count": 1,
   "id": "5d2a512f",
   "metadata": {},
   "outputs": [],
   "source": [
    "def names(a,b,c,d):\n",
    "    print(a,b,c,d)\n"
   ]
  },
  {
   "cell_type": "code",
   "execution_count": 2,
   "id": "c94a3e0d",
   "metadata": {},
   "outputs": [
    {
     "name": "stdout",
     "output_type": "stream",
     "text": [
      "sumeet sdfsd sdfsd ewrwer\n"
     ]
    }
   ],
   "source": [
    "names('sumeet','sdfsd','sdfsd','ewrwer')"
   ]
  },
  {
   "cell_type": "raw",
   "id": "34fe7b51",
   "metadata": {},
   "source": [
    "but what if i wanted to pass one more name and if i do so, i would get an error"
   ]
  },
  {
   "cell_type": "code",
   "execution_count": 3,
   "id": "2845ca08",
   "metadata": {},
   "outputs": [
    {
     "ename": "TypeError",
     "evalue": "names() takes 4 positional arguments but 5 were given",
     "output_type": "error",
     "traceback": [
      "\u001b[1;31m---------------------------------------------------------------------------\u001b[0m",
      "\u001b[1;31mTypeError\u001b[0m                                 Traceback (most recent call last)",
      "Input \u001b[1;32mIn [3]\u001b[0m, in \u001b[0;36m<cell line: 1>\u001b[1;34m()\u001b[0m\n\u001b[1;32m----> 1\u001b[0m \u001b[43mnames\u001b[49m\u001b[43m(\u001b[49m\u001b[38;5;124;43m'\u001b[39;49m\u001b[38;5;124;43msumeet\u001b[39;49m\u001b[38;5;124;43m'\u001b[39;49m\u001b[43m,\u001b[49m\u001b[38;5;124;43m'\u001b[39;49m\u001b[38;5;124;43msdfsd\u001b[39;49m\u001b[38;5;124;43m'\u001b[39;49m\u001b[43m,\u001b[49m\u001b[38;5;124;43m'\u001b[39;49m\u001b[38;5;124;43msdfsd\u001b[39;49m\u001b[38;5;124;43m'\u001b[39;49m\u001b[43m,\u001b[49m\u001b[38;5;124;43m'\u001b[39;49m\u001b[38;5;124;43mewrwer\u001b[39;49m\u001b[38;5;124;43m'\u001b[39;49m\u001b[43m,\u001b[49m\u001b[38;5;124;43m'\u001b[39;49m\u001b[38;5;124;43mwerwerwer\u001b[39;49m\u001b[38;5;124;43m'\u001b[39;49m\u001b[43m)\u001b[49m\n",
      "\u001b[1;31mTypeError\u001b[0m: names() takes 4 positional arguments but 5 were given"
     ]
    }
   ],
   "source": [
    "names('sumeet','sdfsd','sdfsd','ewrwer','werwerwer')"
   ]
  },
  {
   "cell_type": "code",
   "execution_count": 5,
   "id": "0955cd55",
   "metadata": {},
   "outputs": [
    {
     "name": "stdout",
     "output_type": "stream",
     "text": [
      "('sumeet', 'sdfsd', 'sdfsd', 'ewrwer', 'sdfsdfdfsdfs')\n"
     ]
    }
   ],
   "source": [
    "def names(*args):\n",
    "    for i in args:\n",
    "        print(i)\n",
    "l=('sumeet','sdfsd','sdfsd','ewrwer','sdfsdfdfsdfs')\n",
    "names(l)"
   ]
  },
  {
   "cell_type": "raw",
   "id": "467cf51d",
   "metadata": {},
   "source": [
    "this is why *args are used "
   ]
  },
  {
   "cell_type": "code",
   "execution_count": 8,
   "id": "f40b800f",
   "metadata": {},
   "outputs": [
    {
     "name": "stdout",
     "output_type": "stream",
     "text": [
      "this is me\n",
      "('sumeet', 'sdfsd', 'sdfsd', 'ewrwer', 'sdfsdfdfsdfs')\n"
     ]
    }
   ],
   "source": [
    "def names(normal,*args):\n",
    "    for i in args:\n",
    "        print(normal)\n",
    "        print(i)\n",
    "l=('sumeet','sdfsd','sdfsd','ewrwer','sdfsdfdfsdfs')\n",
    "normal='this is me'\n",
    "names(normal,l)"
   ]
  },
  {
   "cell_type": "code",
   "execution_count": 9,
   "id": "507059fc",
   "metadata": {},
   "outputs": [
    {
     "name": "stdout",
     "output_type": "stream",
     "text": [
      "this is me\n",
      "('sumeet', 'sdfsd', 'sdfsd', 'ewrwer', 'sdfsdfdfsdfs')\n"
     ]
    }
   ],
   "source": [
    "def names(normal,*args,**kwargs):\n",
    "    for i in args:\n",
    "        print(normal)\n",
    "        print(i)\n",
    "l=('sumeet','sdfsd','sdfsd','ewrwer','sdfsdfdfsdfs')\n",
    "normal='this is me'\n",
    "names(normal,l)"
   ]
  },
  {
   "cell_type": "raw",
   "id": "90f56860",
   "metadata": {},
   "source": [
    "*args specifies the number of non-keyworded arguments that can be passed and the operations that can be performed on the \n",
    "function"
   ]
  },
  {
   "cell_type": "raw",
   "id": "0e3ed1ee",
   "metadata": {},
   "source": [
    "whereas **kwargs is a variable number of keyworded arguments that can be passed to a function that can perform dictionary \n",
    "operations."
   ]
  },
  {
   "cell_type": "code",
   "execution_count": null,
   "id": "b753a5ff",
   "metadata": {},
   "outputs": [],
   "source": []
  }
 ],
 "metadata": {
  "kernelspec": {
   "display_name": "Python 3 (ipykernel)",
   "language": "python",
   "name": "python3"
  },
  "language_info": {
   "codemirror_mode": {
    "name": "ipython",
    "version": 3
   },
   "file_extension": ".py",
   "mimetype": "text/x-python",
   "name": "python",
   "nbconvert_exporter": "python",
   "pygments_lexer": "ipython3",
   "version": "3.9.12"
  }
 },
 "nbformat": 4,
 "nbformat_minor": 5
}
