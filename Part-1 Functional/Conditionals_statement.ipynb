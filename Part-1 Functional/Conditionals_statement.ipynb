{
 "cells": [
  {
   "cell_type": "code",
   "execution_count": 1,
   "id": "d053b265",
   "metadata": {},
   "outputs": [
    {
     "name": "stdout",
     "output_type": "stream",
     "text": [
      "enter the number a\n",
      "45\n",
      "enter the number b\n",
      "12\n",
      "enter the number c\n",
      "56\n",
      "enter the number d\n",
      "8\n",
      "c is greatest\n",
      "\n"
     ]
    }
   ],
   "source": [
    "a=int(input(\"enter the number a\\n\"))\n",
    "b=int(input(\"enter the number b\\n\"))\n",
    "c=int(input(\"enter the number c\\n\"))\n",
    "d=int(input(\"enter the number d\\n\"))\n",
    "\n",
    "if(a>b and a>c and a>d):\n",
    "    print(\"a is greatest\\n\")\n",
    "elif(b>a and b>c and b>d):\n",
    "    print(\"b is greatest\\n\")\n",
    "elif(c>a and c>b and c>d):\n",
    "    print(\"c is greatest\\n\")\n",
    "elif(d>a and d>c and d>b):\n",
    "    print(\"d is greatest\\n\")\n",
    "else:\n",
    "    print(\"none\\n\")\n"
   ]
  },
  {
   "cell_type": "code",
   "execution_count": 2,
   "id": "13aaa771",
   "metadata": {},
   "outputs": [
    {
     "name": "stdout",
     "output_type": "stream",
     "text": [
      "no\n"
     ]
    }
   ],
   "source": [
    "a= \"sumeet\"\n",
    "if(a is None):\n",
    "    print(\"yes\")\n",
    "else:\n",
    "    print(\"no\")"
   ]
  },
  {
   "cell_type": "code",
   "execution_count": 4,
   "id": "d1ce7db4",
   "metadata": {},
   "outputs": [
    {
     "name": "stdout",
     "output_type": "stream",
     "text": [
      "True\n"
     ]
    }
   ],
   "source": [
    "# in function\n",
    "a=[43,45,656,433]\n",
    "print(433 in a)    "
   ]
  },
  {
   "cell_type": "code",
   "execution_count": 6,
   "id": "1a69dc24",
   "metadata": {},
   "outputs": [
    {
     "name": "stdout",
     "output_type": "stream",
     "text": [
      "enter the text\n",
      "sdfsdfdf\n",
      "no FLAg\n",
      "\n"
     ]
    }
   ],
   "source": [
    "post=input(\"enter the text\\n\")\n",
    "\n",
    "if('sumeet' in post):\n",
    "    print(\"flag\\n\")\n",
    "elif('SUMEET' in post):\n",
    "    print(\"flag\\n\")\n",
    "else:\n",
    "    print(\"no FLAg\\n\")"
   ]
  },
  {
   "cell_type": "code",
   "execution_count": 10,
   "id": "66adfc5b",
   "metadata": {},
   "outputs": [
    {
     "name": "stdout",
     "output_type": "stream",
     "text": [
      "sumeet is a intern\n"
     ]
    },
    {
     "data": {
      "text/plain": [
       "272"
      ]
     },
     "execution_count": 10,
     "metadata": {},
     "output_type": "execute_result"
    }
   ],
   "source": [
    "a=0\n",
    "b='sumeet is a intern' if a==0 else 'sumeet is not a intern he is the owner'\n",
    "print(b)\n",
    "\n",
    "c=True\n",
    "mul=34\n",
    "mul*8 if c==True else 'sdfsdfds' "
   ]
  },
  {
   "cell_type": "code",
   "execution_count": null,
   "id": "9b558830",
   "metadata": {},
   "outputs": [],
   "source": []
  }
 ],
 "metadata": {
  "kernelspec": {
   "display_name": "Python 3 (ipykernel)",
   "language": "python",
   "name": "python3"
  },
  "language_info": {
   "codemirror_mode": {
    "name": "ipython",
    "version": 3
   },
   "file_extension": ".py",
   "mimetype": "text/x-python",
   "name": "python",
   "nbconvert_exporter": "python",
   "pygments_lexer": "ipython3",
   "version": "3.9.12"
  }
 },
 "nbformat": 4,
 "nbformat_minor": 5
}
