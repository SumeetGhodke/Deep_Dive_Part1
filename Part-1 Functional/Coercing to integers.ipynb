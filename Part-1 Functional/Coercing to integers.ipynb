{
 "cells": [
  {
   "cell_type": "raw",
   "id": "e8811393",
   "metadata": {},
   "source": [
    "Truncation\n",
    "truncating a float simply returns the integer portion of the number\n",
    "i.e. ignores everything after the decimal point\n",
    "The math module provides us the trunc() function:\n"
   ]
  },
  {
   "cell_type": "raw",
   "id": "6adad8f6",
   "metadata": {},
   "source": [
    "truncation\n",
    "floor\n",
    "rounding\n",
    "celing"
   ]
  },
  {
   "cell_type": "code",
   "execution_count": 2,
   "id": "07a67cd6",
   "metadata": {},
   "outputs": [
    {
     "data": {
      "text/plain": [
       "-10"
      ]
     },
     "execution_count": 2,
     "metadata": {},
     "output_type": "execute_result"
    }
   ],
   "source": [
    "import math\n",
    "\n",
    "math.trunc(10.5) \n",
    " \n",
    "math.trunc(-10.5) \n",
    "math.trunc(-10.6) "
   ]
  },
  {
   "cell_type": "code",
   "execution_count": 3,
   "id": "329caec4",
   "metadata": {},
   "outputs": [
    {
     "data": {
      "text/plain": [
       "10"
      ]
     },
     "execution_count": 3,
     "metadata": {},
     "output_type": "execute_result"
    }
   ],
   "source": [
    "math.trunc(10.4) "
   ]
  },
  {
   "cell_type": "code",
   "execution_count": 4,
   "id": "91dbb196",
   "metadata": {},
   "outputs": [
    {
     "data": {
      "text/plain": [
       "-10"
      ]
     },
     "execution_count": 4,
     "metadata": {},
     "output_type": "execute_result"
    }
   ],
   "source": [
    "math.trunc(10.6) \n",
    "math.trunc(-10.4)"
   ]
  },
  {
   "cell_type": "markdown",
   "id": "807234e3",
   "metadata": {},
   "source": [
    "# banker's rounding"
   ]
  },
  {
   "cell_type": "markdown",
   "id": "e76ddebe",
   "metadata": {},
   "source": [
    "In Python, if the fractional component of the number is halfway between two integers, one of which is even \n",
    "and the other odd, then the even number is returned. This kind of rounding is called rounding to even (or banker's rounding)."
   ]
  },
  {
   "cell_type": "raw",
   "id": "e0e51243",
   "metadata": {},
   "source": [
    "The banker's rounding comes from the idea that statistically 50% sample of numbers are rounded up and 50% are rounded down.\n",
    "Python uses banker's rounding but not rounding away from zero because it's less biased."
   ]
  },
  {
   "cell_type": "code",
   "execution_count": null,
   "id": "b7331bbb",
   "metadata": {},
   "outputs": [],
   "source": []
  }
 ],
 "metadata": {
  "kernelspec": {
   "display_name": "Python 3 (ipykernel)",
   "language": "python",
   "name": "python3"
  },
  "language_info": {
   "codemirror_mode": {
    "name": "ipython",
    "version": 3
   },
   "file_extension": ".py",
   "mimetype": "text/x-python",
   "name": "python",
   "nbconvert_exporter": "python",
   "pygments_lexer": "ipython3",
   "version": "3.9.12"
  }
 },
 "nbformat": 4,
 "nbformat_minor": 5
}
