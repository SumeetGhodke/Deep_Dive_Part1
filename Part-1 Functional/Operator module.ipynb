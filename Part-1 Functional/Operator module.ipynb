{
 "cells": [
  {
   "cell_type": "code",
   "execution_count": 10,
   "id": "ea0cc944",
   "metadata": {},
   "outputs": [
    {
     "name": "stdout",
     "output_type": "stream",
     "text": [
      "2\n",
      "25656\n"
     ]
    }
   ],
   "source": [
    "import operator \n",
    "\n",
    "s=[1,2,3]\n",
    "p=[1,25656,3,5,5,65,654,45]\n",
    "\n",
    "\n",
    "\n",
    "# getitem(s,1)\n",
    "f=operator.itemgetter(1)\n",
    "print(f(s))\n",
    "print(f(p))\n"
   ]
  },
  {
   "cell_type": "code",
   "execution_count": 11,
   "id": "507beb2d",
   "metadata": {},
   "outputs": [],
   "source": [
    "a='python'"
   ]
  },
  {
   "cell_type": "code",
   "execution_count": 12,
   "id": "db8771d5",
   "metadata": {},
   "outputs": [
    {
     "data": {
      "text/plain": [
       "'PYTHON'"
      ]
     },
     "execution_count": 12,
     "metadata": {},
     "output_type": "execute_result"
    }
   ],
   "source": [
    "a.upper()"
   ]
  },
  {
   "cell_type": "code",
   "execution_count": 14,
   "id": "8b272def",
   "metadata": {},
   "outputs": [],
   "source": [
    "b='DSFSSDsdfsdfFDS'"
   ]
  },
  {
   "cell_type": "code",
   "execution_count": 15,
   "id": "0a5485a4",
   "metadata": {},
   "outputs": [
    {
     "data": {
      "text/plain": [
       "'dsfssdsdfsdffds'"
      ]
     },
     "execution_count": 15,
     "metadata": {},
     "output_type": "execute_result"
    }
   ],
   "source": [
    "b.lower()"
   ]
  },
  {
   "cell_type": "code",
   "execution_count": 18,
   "id": "b2906bc7",
   "metadata": {},
   "outputs": [
    {
     "data": {
      "text/plain": [
       "'PYTHON'"
      ]
     },
     "execution_count": 18,
     "metadata": {},
     "output_type": "execute_result"
    }
   ],
   "source": [
    "operator.methodcaller('upper')('python')"
   ]
  },
  {
   "cell_type": "code",
   "execution_count": 19,
   "id": "f7bc5701",
   "metadata": {},
   "outputs": [
    {
     "data": {
      "text/plain": [
       "'sdfsdfsfd'"
      ]
     },
     "execution_count": 19,
     "metadata": {},
     "output_type": "execute_result"
    }
   ],
   "source": [
    "operator.methodcaller('lower')('SDFSDFSFD')"
   ]
  },
  {
   "cell_type": "markdown",
   "id": "b05636c7",
   "metadata": {},
   "source": [
    "reduce(func,seq) is used to apply a particular function passed in its argument to all of the list elements mentioned in the sequence passed along"
   ]
  },
  {
   "cell_type": "code",
   "execution_count": 21,
   "id": "6bb3a51b",
   "metadata": {},
   "outputs": [
    {
     "data": {
      "text/plain": [
       "24"
      ]
     },
     "execution_count": 21,
     "metadata": {},
     "output_type": "execute_result"
    }
   ],
   "source": [
    "from functools import reduce\n",
    "reduce(operator.mul, [1, 2, 3, 4])"
   ]
  },
  {
   "cell_type": "code",
   "execution_count": 22,
   "id": "e2697cbc",
   "metadata": {},
   "outputs": [
    {
     "data": {
      "text/plain": [
       "False"
      ]
     },
     "execution_count": 22,
     "metadata": {},
     "output_type": "execute_result"
    }
   ],
   "source": [
    "operator.lt(100,23)"
   ]
  },
  {
   "cell_type": "code",
   "execution_count": 24,
   "id": "bc1c57af",
   "metadata": {},
   "outputs": [
    {
     "data": {
      "text/plain": [
       "True"
      ]
     },
     "execution_count": 24,
     "metadata": {},
     "output_type": "execute_result"
    }
   ],
   "source": [
    "operator.lt(23,232)"
   ]
  },
  {
   "cell_type": "code",
   "execution_count": 25,
   "id": "32f9a819",
   "metadata": {},
   "outputs": [
    {
     "data": {
      "text/plain": [
       "False"
      ]
     },
     "execution_count": 25,
     "metadata": {},
     "output_type": "execute_result"
    }
   ],
   "source": [
    "operator.gt(23,232)"
   ]
  },
  {
   "cell_type": "code",
   "execution_count": 26,
   "id": "769590fc",
   "metadata": {},
   "outputs": [
    {
     "data": {
      "text/plain": [
       "False"
      ]
     },
     "execution_count": 26,
     "metadata": {},
     "output_type": "execute_result"
    }
   ],
   "source": [
    "operator.ne(23,23)"
   ]
  },
  {
   "cell_type": "code",
   "execution_count": 30,
   "id": "0ad7ca0b",
   "metadata": {},
   "outputs": [
    {
     "data": {
      "text/plain": [
       "True"
      ]
     },
     "execution_count": 30,
     "metadata": {},
     "output_type": "execute_result"
    }
   ],
   "source": [
    "operator.eq(23,23)"
   ]
  },
  {
   "cell_type": "markdown",
   "id": "96724e1a",
   "metadata": {},
   "source": [
    " In general, the operator library can make your code more concise and readable, especially when working with complex data structures."
   ]
  },
  {
   "cell_type": "code",
   "execution_count": 31,
   "id": "34798923",
   "metadata": {},
   "outputs": [],
   "source": [
    "f = operator.itemgetter(2, 3)"
   ]
  },
  {
   "cell_type": "code",
   "execution_count": 32,
   "id": "5370e9c4",
   "metadata": {},
   "outputs": [
    {
     "data": {
      "text/plain": [
       "(3, 4)"
      ]
     },
     "execution_count": 32,
     "metadata": {},
     "output_type": "execute_result"
    }
   ],
   "source": [
    "l=[1,2,3,4,6]\n",
    "f(l)"
   ]
  },
  {
   "cell_type": "code",
   "execution_count": 33,
   "id": "15a07a7a",
   "metadata": {},
   "outputs": [
    {
     "data": {
      "text/plain": [
       "('t', 'h')"
      ]
     },
     "execution_count": 33,
     "metadata": {},
     "output_type": "execute_result"
    }
   ],
   "source": [
    "operator.itemgetter(2, 3)('python')"
   ]
  },
  {
   "cell_type": "code",
   "execution_count": 42,
   "id": "48be82e4",
   "metadata": {},
   "outputs": [],
   "source": [
    "f = lambda x: (x[2],x[4])"
   ]
  },
  {
   "cell_type": "code",
   "execution_count": 43,
   "id": "9744a65e",
   "metadata": {},
   "outputs": [
    {
     "data": {
      "text/plain": [
       "(3, 545)"
      ]
     },
     "execution_count": 43,
     "metadata": {},
     "output_type": "execute_result"
    }
   ],
   "source": [
    "f([1, 2, 3, 4,545,2323])"
   ]
  },
  {
   "cell_type": "markdown",
   "id": "2c58167f",
   "metadata": {},
   "source": [
    "# operation on complex no"
   ]
  },
  {
   "cell_type": "code",
   "execution_count": 44,
   "id": "41324b58",
   "metadata": {},
   "outputs": [],
   "source": [
    "a=2+3j"
   ]
  },
  {
   "cell_type": "code",
   "execution_count": 45,
   "id": "108ce738",
   "metadata": {},
   "outputs": [
    {
     "data": {
      "text/plain": [
       "2.0"
      ]
     },
     "execution_count": 45,
     "metadata": {},
     "output_type": "execute_result"
    }
   ],
   "source": [
    "a.real"
   ]
  },
  {
   "cell_type": "code",
   "execution_count": 46,
   "id": "78d37379",
   "metadata": {},
   "outputs": [
    {
     "data": {
      "text/plain": [
       "3.0"
      ]
     },
     "execution_count": 46,
     "metadata": {},
     "output_type": "execute_result"
    }
   ],
   "source": [
    "a.imag"
   ]
  },
  {
   "cell_type": "code",
   "execution_count": 49,
   "id": "4921164b",
   "metadata": {},
   "outputs": [],
   "source": [
    "l=[a,25+8j,5+3j]"
   ]
  },
  {
   "cell_type": "code",
   "execution_count": 50,
   "id": "f926aec9",
   "metadata": {},
   "outputs": [
    {
     "data": {
      "text/plain": [
       "[(2+3j), (5+3j), (25+8j)]"
      ]
     },
     "execution_count": 50,
     "metadata": {},
     "output_type": "execute_result"
    }
   ],
   "source": [
    "sorted(l,key=operator.attrgetter('real'))"
   ]
  },
  {
   "cell_type": "markdown",
   "id": "9315c95e",
   "metadata": {},
   "source": [
    "Sorting the elements on the basis of last character "
   ]
  },
  {
   "cell_type": "code",
   "execution_count": 52,
   "id": "7a069567",
   "metadata": {},
   "outputs": [
    {
     "data": {
      "text/plain": [
       "['aaa', 'aac', 'aad', 'aaz']"
      ]
     },
     "execution_count": 52,
     "metadata": {},
     "output_type": "execute_result"
    }
   ],
   "source": [
    "l = ['aaz', 'aad', 'aaa', 'aac']\n",
    "sorted(l, key=operator.itemgetter(-1))"
   ]
  },
  {
   "cell_type": "markdown",
   "id": "b83134b4",
   "metadata": {},
   "source": [
    "Sorting the elements on the basis of first character "
   ]
  },
  {
   "cell_type": "code",
   "execution_count": 58,
   "id": "6e3507be",
   "metadata": {},
   "outputs": [
    {
     "data": {
      "text/plain": [
       "['aaz', 'caa', 'dad', 'fac']"
      ]
     },
     "execution_count": 58,
     "metadata": {},
     "output_type": "execute_result"
    }
   ],
   "source": [
    "l = ['aaz', 'dad', 'caa', 'fac']\n",
    "sorted(l, key=operator.itemgetter(0))"
   ]
  },
  {
   "cell_type": "markdown",
   "id": "71de7906",
   "metadata": {},
   "source": [
    "sorting on the basis of first elements of the tuples"
   ]
  },
  {
   "cell_type": "code",
   "execution_count": 62,
   "id": "e7f525ee",
   "metadata": {},
   "outputs": [
    {
     "data": {
      "text/plain": [
       "[(1, 2, 3), (2, 3, 4), (3, 4), (4,)]"
      ]
     },
     "execution_count": 62,
     "metadata": {},
     "output_type": "execute_result"
    }
   ],
   "source": [
    "l = [(2, 3, 4), (1, 2, 3), (4, ), (3, 4)]\n",
    "sorted(l, key=operator.itemgetter(0))"
   ]
  },
  {
   "cell_type": "markdown",
   "id": "74962f98",
   "metadata": {},
   "source": [
    "# slicing with operator"
   ]
  },
  {
   "cell_type": "code",
   "execution_count": 70,
   "id": "97bf2061",
   "metadata": {},
   "outputs": [
    {
     "data": {
      "text/plain": [
       "[1, 6, 56, 8, 9]"
      ]
     },
     "execution_count": 70,
     "metadata": {},
     "output_type": "execute_result"
    }
   ],
   "source": [
    "l=[1,6,56,8,9,45,9,5]\n",
    "l[0:5]"
   ]
  },
  {
   "cell_type": "code",
   "execution_count": 66,
   "id": "5c3134a2",
   "metadata": {},
   "outputs": [
    {
     "data": {
      "text/plain": [
       "['a', 'b', 'c', 56, 8, 9, 45, 9, 5]"
      ]
     },
     "execution_count": 66,
     "metadata": {},
     "output_type": "execute_result"
    }
   ],
   "source": [
    "l[0:2]=['a','b','c']\n",
    "l"
   ]
  },
  {
   "cell_type": "code",
   "execution_count": 71,
   "id": "d17fc92f",
   "metadata": {},
   "outputs": [
    {
     "data": {
      "text/plain": [
       "['a', 'b', 'c', 56, 8, 9, 45, 9, 5]"
      ]
     },
     "execution_count": 71,
     "metadata": {},
     "output_type": "execute_result"
    }
   ],
   "source": [
    "operator.setitem(l,slice(0,2),['a','b','c'])\n",
    "l"
   ]
  },
  {
   "cell_type": "markdown",
   "id": "603766fb",
   "metadata": {},
   "source": [
    "both the above functions gives the same output"
   ]
  },
  {
   "cell_type": "code",
   "execution_count": 72,
   "id": "4a37b927",
   "metadata": {},
   "outputs": [
    {
     "data": {
      "text/plain": [
       "['c', 56, 8, 9, 45, 9, 5]"
      ]
     },
     "execution_count": 72,
     "metadata": {},
     "output_type": "execute_result"
    }
   ],
   "source": [
    "operator.delitem(l,slice(0,2))\n",
    "l"
   ]
  },
  {
   "cell_type": "code",
   "execution_count": 73,
   "id": "74c681ce",
   "metadata": {},
   "outputs": [],
   "source": [
    "class MyClass:\n",
    "    def __init__(self):\n",
    "        self.a = 10\n",
    "        self.b = 20\n",
    "    \n",
    "    def do_something(self, *, c):\n",
    "        print(self.a, self.b, c)"
   ]
  },
  {
   "cell_type": "code",
   "execution_count": 75,
   "id": "b437db61",
   "metadata": {},
   "outputs": [
    {
     "name": "stdout",
     "output_type": "stream",
     "text": [
      "10 20 200\n"
     ]
    }
   ],
   "source": [
    "obj=MyClass()\n",
    "obj.do_something(c=200)\n"
   ]
  },
  {
   "cell_type": "code",
   "execution_count": 76,
   "id": "70ae2a02",
   "metadata": {},
   "outputs": [
    {
     "name": "stdout",
     "output_type": "stream",
     "text": [
      "10 20 2000\n"
     ]
    }
   ],
   "source": [
    "operator.methodcaller('do_something',c=2000)(obj)"
   ]
  },
  {
   "cell_type": "markdown",
   "id": "e014575b",
   "metadata": {},
   "source": [
    "the above funciton are used for the same purpose, only difference is that in 2nd operator module is used"
   ]
  },
  {
   "cell_type": "code",
   "execution_count": null,
   "id": "6b5c010c",
   "metadata": {},
   "outputs": [],
   "source": []
  }
 ],
 "metadata": {
  "kernelspec": {
   "display_name": "Python 3 (ipykernel)",
   "language": "python",
   "name": "python3"
  },
  "language_info": {
   "codemirror_mode": {
    "name": "ipython",
    "version": 3
   },
   "file_extension": ".py",
   "mimetype": "text/x-python",
   "name": "python",
   "nbconvert_exporter": "python",
   "pygments_lexer": "ipython3",
   "version": "3.9.12"
  }
 },
 "nbformat": 4,
 "nbformat_minor": 5
}
