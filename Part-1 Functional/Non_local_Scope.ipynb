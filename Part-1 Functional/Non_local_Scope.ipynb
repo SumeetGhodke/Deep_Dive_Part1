{
 "cells": [
  {
   "cell_type": "code",
   "execution_count": 1,
   "id": "4143beed",
   "metadata": {},
   "outputs": [],
   "source": [
    "def outer_func():\n",
    "    x=100\n",
    "    def inner_func():\n",
    "        print(x)\n",
    "    inner_func()"
   ]
  },
  {
   "cell_type": "code",
   "execution_count": 2,
   "id": "d048d040",
   "metadata": {},
   "outputs": [
    {
     "name": "stdout",
     "output_type": "stream",
     "text": [
      "100\n"
     ]
    }
   ],
   "source": [
    "outer_func()"
   ]
  },
  {
   "cell_type": "raw",
   "id": "a4c26d08",
   "metadata": {},
   "source": [
    "In fact, any level of nesting is supported since Python \n",
    "just keeps looking in enclosing scopes until it finds what \n",
    "it needs (or fails to find it by the time it finishes looking\n",
    "in the built-in scope, in which case a runtime error occurrs.)"
   ]
  },
  {
   "cell_type": "code",
   "execution_count": 5,
   "id": "ec516007",
   "metadata": {},
   "outputs": [],
   "source": [
    "def outer_func():\n",
    "    x=100\n",
    "    def inner_func_1():\n",
    "        def inner_func_2():\n",
    "            x=45\n",
    "            print(x)\n",
    "        inner_func_2()\n",
    "    inner_func_1()"
   ]
  },
  {
   "cell_type": "code",
   "execution_count": 8,
   "id": "8e05c990",
   "metadata": {},
   "outputs": [
    {
     "name": "stdout",
     "output_type": "stream",
     "text": [
      "45\n"
     ]
    }
   ],
   "source": [
    "outer_func()\n"
   ]
  },
  {
   "cell_type": "code",
   "execution_count": 9,
   "id": "b1f2b7b7",
   "metadata": {},
   "outputs": [],
   "source": [
    "def outer():\n",
    "    x = 'hello'\n",
    "    def inner():\n",
    "        x = 'python'\n",
    "    inner()\n",
    "    print(x)"
   ]
  },
  {
   "cell_type": "code",
   "execution_count": 10,
   "id": "1af9f364",
   "metadata": {},
   "outputs": [
    {
     "name": "stdout",
     "output_type": "stream",
     "text": [
      "hello\n"
     ]
    }
   ],
   "source": [
    "outer()"
   ]
  },
  {
   "cell_type": "raw",
   "id": "d1c7acdd",
   "metadata": {},
   "source": [
    "TO change the x in the outer we need to use nonlocal keyword"
   ]
  },
  {
   "cell_type": "code",
   "execution_count": 14,
   "id": "d72a0770",
   "metadata": {},
   "outputs": [],
   "source": [
    "def outer():\n",
    "    x='hello'\n",
    "    def inner():\n",
    "        nonlocal x\n",
    "        x='sumeet'\n",
    "    inner()\n",
    "    print(x)\n",
    "    \n",
    "# 'hello' will be replaced with 'sumeet'"
   ]
  },
  {
   "cell_type": "code",
   "execution_count": 15,
   "id": "a424115d",
   "metadata": {},
   "outputs": [
    {
     "name": "stdout",
     "output_type": "stream",
     "text": [
      "sumeet\n"
     ]
    }
   ],
   "source": [
    "outer()"
   ]
  },
  {
   "cell_type": "code",
   "execution_count": 16,
   "id": "90ced31d",
   "metadata": {},
   "outputs": [],
   "source": [
    "def outer():\n",
    "    x = 'hello'\n",
    "    def inner1():\n",
    "        x = 'python'\n",
    "        def inner2():\n",
    "            nonlocal x\n",
    "            x = 'monty'\n",
    "        print('inner1 (before):', x)\n",
    "        inner2()\n",
    "        print('inner1 (after):', x)\n",
    "    inner1()\n",
    "    print('outer:', x)"
   ]
  },
  {
   "cell_type": "code",
   "execution_count": 17,
   "id": "25fdcdb0",
   "metadata": {},
   "outputs": [
    {
     "name": "stdout",
     "output_type": "stream",
     "text": [
      "inner1 (before): python\n",
      "inner1 (after): monty\n",
      "outer: hello\n"
     ]
    }
   ],
   "source": [
    "outer()"
   ]
  },
  {
   "cell_type": "code",
   "execution_count": 22,
   "id": "5d5b8f4e",
   "metadata": {},
   "outputs": [],
   "source": [
    "def outer():\n",
    "    x='hello'\n",
    "    def inner1():\n",
    "        nonlocal x\n",
    "        x='python'\n",
    "        def inner2():\n",
    "            nonlocal x\n",
    "            x='sumeet'\n",
    "        print(\"before:\",x)\n",
    "        inner2()\n",
    "        print('after:',x)\n",
    "    inner1()\n",
    "    print('outer:',x)"
   ]
  },
  {
   "cell_type": "code",
   "execution_count": 23,
   "id": "a4453ea4",
   "metadata": {},
   "outputs": [
    {
     "name": "stdout",
     "output_type": "stream",
     "text": [
      "before: python\n",
      "after: sumeet\n",
      "outer: sumeet\n"
     ]
    }
   ],
   "source": [
    "outer()"
   ]
  },
  {
   "cell_type": "code",
   "execution_count": 25,
   "id": "51f6f86f",
   "metadata": {},
   "outputs": [],
   "source": [
    "x = 100\n",
    "def outer():\n",
    "    x = 'python'  # masks global x\n",
    "    def inner1():\n",
    "        nonlocal x  # refers to x in outer\n",
    "        x = 'monty' # changed x in outer scope\n",
    "        def inner2():\n",
    "            global x  # refers to x in global scope\n",
    "            x = 'hello'\n",
    "            print('inner1 (before):', x)\n",
    "            inner2()\n",
    "        print('inner1 (after):', x)\n",
    "    inner1()\n",
    "    print('outer', x)  "
   ]
  },
  {
   "cell_type": "code",
   "execution_count": 27,
   "id": "7de37ba6",
   "metadata": {},
   "outputs": [
    {
     "name": "stdout",
     "output_type": "stream",
     "text": [
      "inner1 (after): monty\n",
      "outer monty\n",
      "100\n"
     ]
    }
   ],
   "source": [
    "outer()\n",
    "print(x)"
   ]
  },
  {
   "cell_type": "code",
   "execution_count": 28,
   "id": "e616df03",
   "metadata": {},
   "outputs": [
    {
     "ename": "SyntaxError",
     "evalue": "no binding for nonlocal 'x' found (708613099.py, line 7)",
     "output_type": "error",
     "traceback": [
      "\u001b[1;36m  Input \u001b[1;32mIn [28]\u001b[1;36m\u001b[0m\n\u001b[1;33m    nonlocal x\u001b[0m\n\u001b[1;37m    ^\u001b[0m\n\u001b[1;31mSyntaxError\u001b[0m\u001b[1;31m:\u001b[0m no binding for nonlocal 'x' found\n"
     ]
    }
   ],
   "source": [
    "x = 100\n",
    "def outer():\n",
    "    global x\n",
    "    x = 'python'       # thisrefers to a global variable\n",
    "    \n",
    "    def inner():\n",
    "        nonlocal x\n",
    "        x = 'monty'\n",
    "    inner()"
   ]
  },
  {
   "cell_type": "code",
   "execution_count": null,
   "id": "2db223ca",
   "metadata": {},
   "outputs": [],
   "source": []
  }
 ],
 "metadata": {
  "kernelspec": {
   "display_name": "Python 3 (ipykernel)",
   "language": "python",
   "name": "python3"
  },
  "language_info": {
   "codemirror_mode": {
    "name": "ipython",
    "version": 3
   },
   "file_extension": ".py",
   "mimetype": "text/x-python",
   "name": "python",
   "nbconvert_exporter": "python",
   "pygments_lexer": "ipython3",
   "version": "3.9.12"
  }
 },
 "nbformat": 4,
 "nbformat_minor": 5
}
