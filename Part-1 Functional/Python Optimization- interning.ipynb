{
 "cells": [
  {
   "cell_type": "markdown",
   "id": "645181ae",
   "metadata": {},
   "source": [
    "# what is Interning"
   ]
  },
  {
   "cell_type": "code",
   "execution_count": 1,
   "id": "7cac281d",
   "metadata": {},
   "outputs": [],
   "source": [
    "# The optimization techniques we are going to discuss in this article are related to CPython which is \n",
    "# standard Python implementation."
   ]
  },
  {
   "cell_type": "markdown",
   "id": "044ca56e",
   "metadata": {},
   "source": [
    "Interning is re-using the objects on-demand instead of creating new objects."
   ]
  },
  {
   "cell_type": "raw",
   "id": "1468096a",
   "metadata": {},
   "source": [
    "#  These are in the range [-5 to +256] inclusive. Any time when we try to create an integer object within this range,\n",
    "#     Python automatically refer to these objects in the memory instead of creating new integer objects."
   ]
  },
  {
   "cell_type": "markdown",
   "id": "bb1296da",
   "metadata": {},
   "source": [
    "The reason behind this optimization strategy is simple that integers in the -5 to 256 are used more often."
   ]
  },
  {
   "cell_type": "markdown",
   "id": "090bdf29",
   "metadata": {},
   "source": [
    "# String interning"
   ]
  },
  {
   "cell_type": "markdown",
   "id": "baf2e3e3",
   "metadata": {},
   "source": [
    " Sometimes there will be exceptions. So, don’t rely on it."
   ]
  },
  {
   "cell_type": "raw",
   "id": "4701604a",
   "metadata": {},
   "source": [
    "# Python provides the option force the string to be interned using sys.intern()"
   ]
  },
  {
   "cell_type": "raw",
   "id": "6a386b36",
   "metadata": {},
   "source": [
    "If we were to use equality operator == for comparing long strings Python tries to compare it character\n",
    "by character and obviously it will take some time. But if these long strings can be interned then we know\n",
    "that they point to the same memory location. "
   ]
  },
  {
   "cell_type": "code",
   "execution_count": 3,
   "id": "83d3d585",
   "metadata": {},
   "outputs": [],
   "source": [
    "def compare_using_equals(n):\n",
    "    a = 'a long string that is not interned' * 200\n",
    "    b = 'a long string that is not interned' * 200\n",
    "    for i in range(n):\n",
    "        if a == b:\n",
    "            pass"
   ]
  },
  {
   "cell_type": "code",
   "execution_count": 7,
   "id": "541fd67e",
   "metadata": {},
   "outputs": [],
   "source": [
    "import sys\n",
    "\n",
    "def compare_using_interning(n):\n",
    "    a = sys.intern('a long string that is not interned' * 200)\n",
    "    b = sys.intern('a long string that is not interned' * 200)\n",
    "    for i in range(n):\n",
    "        if a is b:\n",
    "            pass"
   ]
  },
  {
   "cell_type": "code",
   "execution_count": 5,
   "id": "65fc3f2b",
   "metadata": {},
   "outputs": [
    {
     "name": "stdout",
     "output_type": "stream",
     "text": [
      "equality:  3.7967128999999886\n"
     ]
    }
   ],
   "source": [
    "import time\n",
    "\n",
    "start = time.perf_counter()\n",
    "compare_using_equals(10000000)\n",
    "end = time.perf_counter()\n",
    "\n",
    "print('equality: ', end-start)\n"
   ]
  },
  {
   "cell_type": "code",
   "execution_count": 8,
   "id": "f1240497",
   "metadata": {},
   "outputs": [
    {
     "name": "stdout",
     "output_type": "stream",
     "text": [
      "identity:  0.46794729999999163\n"
     ]
    }
   ],
   "source": [
    "start = time.perf_counter()\n",
    "compare_using_interning(10000000)\n",
    "end = time.perf_counter()\n",
    "\n",
    "print('identity: ', end-start)"
   ]
  },
  {
   "cell_type": "raw",
   "id": "3d1aa04f",
   "metadata": {},
   "source": [
    "The perf_counter() function always returns the float value of time in seconds. \n",
    "Return the value (in fractional seconds) of a performance counter, i.e. a clock \n",
    "with the highest available resolution to measure a short duration."
   ]
  },
  {
   "cell_type": "raw",
   "id": "c4c96d4e",
   "metadata": {},
   "source": [
    "As you can see, the performance difference, especially for long strings, and for many comparisons, can be quite radical!"
   ]
  },
  {
   "cell_type": "code",
   "execution_count": null,
   "id": "56d5af71",
   "metadata": {},
   "outputs": [],
   "source": []
  }
 ],
 "metadata": {
  "kernelspec": {
   "display_name": "Python 3 (ipykernel)",
   "language": "python",
   "name": "python3"
  },
  "language_info": {
   "codemirror_mode": {
    "name": "ipython",
    "version": 3
   },
   "file_extension": ".py",
   "mimetype": "text/x-python",
   "name": "python",
   "nbconvert_exporter": "python",
   "pygments_lexer": "ipython3",
   "version": "3.9.12"
  }
 },
 "nbformat": 4,
 "nbformat_minor": 5
}
