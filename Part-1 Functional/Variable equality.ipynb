{
 "cells": [
  {
   "cell_type": "raw",
   "id": "c6a9cd5a",
   "metadata": {},
   "source": [
    "Here with the help of \" is \" operator we are comparing the memory address reference"
   ]
  },
  {
   "cell_type": "code",
   "execution_count": 4,
   "id": "887b1bd2",
   "metadata": {},
   "outputs": [
    {
     "name": "stdout",
     "output_type": "stream",
     "text": [
      "a is b:  False\n"
     ]
    }
   ],
   "source": [
    "a=[1,2,3]\n",
    "b=[1,2,3]\n",
    "\n",
    "print(\"a is b: \", a is b)"
   ]
  },
  {
   "cell_type": "code",
   "execution_count": 5,
   "id": "b3f36781",
   "metadata": {},
   "outputs": [
    {
     "name": "stdout",
     "output_type": "stream",
     "text": [
      "True\n"
     ]
    }
   ],
   "source": [
    "a=45\n",
    "b=45.0\n",
    "print(a==b)"
   ]
  },
  {
   "cell_type": "code",
   "execution_count": 6,
   "id": "702cfeb1",
   "metadata": {},
   "outputs": [
    {
     "data": {
      "text/plain": [
       "'0x28bba7d6eb0'"
      ]
     },
     "execution_count": 6,
     "metadata": {},
     "output_type": "execute_result"
    }
   ],
   "source": [
    "hex(id(a))"
   ]
  },
  {
   "cell_type": "code",
   "execution_count": 7,
   "id": "3ed9a053",
   "metadata": {},
   "outputs": [
    {
     "data": {
      "text/plain": [
       "2799152492208"
      ]
     },
     "execution_count": 7,
     "metadata": {},
     "output_type": "execute_result"
    }
   ],
   "source": [
    "id(a)"
   ]
  },
  {
   "cell_type": "code",
   "execution_count": 8,
   "id": "f75aebaa",
   "metadata": {},
   "outputs": [
    {
     "name": "stdout",
     "output_type": "stream",
     "text": [
      "<class 'complex'>\n"
     ]
    }
   ],
   "source": [
    "c = 10 + 0j\n",
    "print(type(c))"
   ]
  },
  {
   "cell_type": "code",
   "execution_count": 9,
   "id": "4437a54f",
   "metadata": {},
   "outputs": [
    {
     "name": "stdout",
     "output_type": "stream",
     "text": [
      "a is c: False\n",
      "a == c: False\n"
     ]
    }
   ],
   "source": [
    "print('a is c:', a is c)\n",
    "print('a == c:', a == c)"
   ]
  },
  {
   "cell_type": "code",
   "execution_count": null,
   "id": "965e8385",
   "metadata": {},
   "outputs": [],
   "source": []
  }
 ],
 "metadata": {
  "kernelspec": {
   "display_name": "Python 3 (ipykernel)",
   "language": "python",
   "name": "python3"
  },
  "language_info": {
   "codemirror_mode": {
    "name": "ipython",
    "version": 3
   },
   "file_extension": ".py",
   "mimetype": "text/x-python",
   "name": "python",
   "nbconvert_exporter": "python",
   "pygments_lexer": "ipython3",
   "version": "3.9.12"
  }
 },
 "nbformat": 4,
 "nbformat_minor": 5
}
