{
 "cells": [
  {
   "cell_type": "raw",
   "id": "3057689f",
   "metadata": {},
   "source": [
    "Higher order function------ A function that takes a funtion as a parameter/ or returns a function as its value"
   ]
  },
  {
   "cell_type": "raw",
   "id": "cf421689",
   "metadata": {},
   "source": [
    "map\n",
    "filter    are the two built-in high order function         "
   ]
  },
  {
   "cell_type": "raw",
   "id": "b55421bc",
   "metadata": {},
   "source": [
    "map(func,*iterables)"
   ]
  },
  {
   "cell_type": "code",
   "execution_count": 7,
   "id": "1260ba1d",
   "metadata": {},
   "outputs": [
    {
     "name": "stdout",
     "output_type": "stream",
     "text": [
      "[1, 4, 9, 16]\n"
     ]
    }
   ],
   "source": [
    "l=[1,2,3,4]\n",
    "def sqt(x):\n",
    "    return x**2\n",
    "\n",
    "print(list(map(sqt,l)))"
   ]
  },
  {
   "cell_type": "code",
   "execution_count": 10,
   "id": "ed0547a2",
   "metadata": {},
   "outputs": [
    {
     "data": {
      "text/plain": [
       "[2, 4, 6, 8]"
      ]
     },
     "execution_count": 10,
     "metadata": {},
     "output_type": "execute_result"
    }
   ],
   "source": [
    "l1=[1,2,3,4]\n",
    "l2=[1,2,3,4]\n",
    "def add(x,y):\n",
    "    return x+y\n",
    "list(map(add,l1,l2))"
   ]
  },
  {
   "cell_type": "code",
   "execution_count": 12,
   "id": "5f1eafbd",
   "metadata": {},
   "outputs": [
    {
     "data": {
      "text/plain": [
       "[2, 4, 6, 8]"
      ]
     },
     "execution_count": 12,
     "metadata": {},
     "output_type": "execute_result"
    }
   ],
   "source": [
    "# if the length is uneven\n",
    "\n",
    "l1=[1,2,3,4]\n",
    "l2=[1,2,3,4,344,565]\n",
    "def add(x,y):\n",
    "    return x+y\n",
    "list(map(add,l1,l2))"
   ]
  },
  {
   "cell_type": "markdown",
   "id": "2eddd531",
   "metadata": {},
   "source": [
    "# filter"
   ]
  },
  {
   "cell_type": "raw",
   "id": "98f337ef",
   "metadata": {},
   "source": [
    "The filter() method filters the given sequence with the help of a function that tests each element in the sequence to be true \n",
    "or not. \n",
    "\n",
    "filter(func, itreable)\n"
   ]
  },
  {
   "cell_type": "code",
   "execution_count": 14,
   "id": "7f393c96",
   "metadata": {},
   "outputs": [
    {
     "data": {
      "text/plain": [
       "[0, 2, 4, 6]"
      ]
     },
     "execution_count": 14,
     "metadata": {},
     "output_type": "execute_result"
    }
   ],
   "source": [
    "l=[0,1,2,3,4,5,6]\n",
    "def is_even(x):\n",
    "    return x%2==0\n",
    "\n",
    "list(filter(is_even,l))"
   ]
  },
  {
   "cell_type": "code",
   "execution_count": 18,
   "id": "6a90c4a1",
   "metadata": {},
   "outputs": [
    {
     "data": {
      "text/plain": [
       "[1, 3, 5, 7, 9]"
      ]
     },
     "execution_count": 18,
     "metadata": {},
     "output_type": "execute_result"
    }
   ],
   "source": [
    "l=[0,1,2,3,4,5,6,7,8,9]\n",
    "def is_odd(x):\n",
    "    return x%2!=0\n",
    "\n",
    "list(filter(is_odd,l))"
   ]
  },
  {
   "cell_type": "markdown",
   "id": "57c75de7",
   "metadata": {},
   "source": [
    "# zip "
   ]
  },
  {
   "cell_type": "raw",
   "id": "1a7962fa",
   "metadata": {},
   "source": [
    "zip(*iterable) here no function is provided "
   ]
  },
  {
   "cell_type": "code",
   "execution_count": 19,
   "id": "7ff2c0f5",
   "metadata": {},
   "outputs": [
    {
     "data": {
      "text/plain": [
       "[(1, 1, 845), (4, 8, 54), (5, 9, 5), (6, 46, 6), (3, 9, 8), (2, 46, 5)]"
      ]
     },
     "execution_count": 19,
     "metadata": {},
     "output_type": "execute_result"
    }
   ],
   "source": [
    "l1=[1,4,5,6,3,2]\n",
    "l2=[1,8,9,46,9,46,9,6]\n",
    "l3=[845,54,5,6,8,5,9]\n",
    "\n",
    "list(zip(l1,l2,l3))"
   ]
  },
  {
   "cell_type": "code",
   "execution_count": 20,
   "id": "24579977",
   "metadata": {},
   "outputs": [
    {
     "data": {
      "text/plain": [
       "[(1, 1, 'p'),\n",
       " (4, 8, 'y'),\n",
       " (5, 9, 't'),\n",
       " (6, 46, 'h'),\n",
       " (3, 9, 'o'),\n",
       " (2, 46, 'n')]"
      ]
     },
     "execution_count": 20,
     "metadata": {},
     "output_type": "execute_result"
    }
   ],
   "source": [
    "l1=[1,4,5,6,3,2]\n",
    "l2=[1,8,9,46,9,46,9,6]\n",
    "l3='python'\n",
    "\n",
    "list(zip(l1,l2,l3))"
   ]
  },
  {
   "cell_type": "markdown",
   "id": "754fe332",
   "metadata": {},
   "source": [
    "# list comprehension----- alternative to map"
   ]
  },
  {
   "cell_type": "code",
   "execution_count": 21,
   "id": "e989a0d0",
   "metadata": {},
   "outputs": [
    {
     "name": "stdout",
     "output_type": "stream",
     "text": [
      "[1, 4, 9, 16]\n"
     ]
    }
   ],
   "source": [
    "l=[1,2,3,4]\n",
    "def sqt(x):\n",
    "    return x**2\n",
    "\n",
    "print(list(map(sqt,l)))"
   ]
  },
  {
   "cell_type": "code",
   "execution_count": 23,
   "id": "c17cb38c",
   "metadata": {},
   "outputs": [
    {
     "data": {
      "text/plain": [
       "[1, 4, 9, 16]"
      ]
     },
     "execution_count": 23,
     "metadata": {},
     "output_type": "execute_result"
    }
   ],
   "source": [
    "[x**2 for x in l]"
   ]
  },
  {
   "cell_type": "code",
   "execution_count": 24,
   "id": "5f842a44",
   "metadata": {},
   "outputs": [
    {
     "data": {
      "text/plain": [
       "[2, 12, 14, 52, 12, 48]"
      ]
     },
     "execution_count": 24,
     "metadata": {},
     "output_type": "execute_result"
    }
   ],
   "source": [
    "[x+y for  x,y in zip(l1,l2)]"
   ]
  },
  {
   "cell_type": "code",
   "execution_count": 25,
   "id": "fe6bce0a",
   "metadata": {},
   "outputs": [
    {
     "data": {
      "text/plain": [
       "[2, 4]"
      ]
     },
     "execution_count": 25,
     "metadata": {},
     "output_type": "execute_result"
    }
   ],
   "source": [
    "[x for x in l if x%2==0]"
   ]
  },
  {
   "cell_type": "code",
   "execution_count": null,
   "id": "6a7a2966",
   "metadata": {},
   "outputs": [],
   "source": []
  }
 ],
 "metadata": {
  "kernelspec": {
   "display_name": "Python 3 (ipykernel)",
   "language": "python",
   "name": "python3"
  },
  "language_info": {
   "codemirror_mode": {
    "name": "ipython",
    "version": 3
   },
   "file_extension": ".py",
   "mimetype": "text/x-python",
   "name": "python",
   "nbconvert_exporter": "python",
   "pygments_lexer": "ipython3",
   "version": "3.9.12"
  }
 },
 "nbformat": 4,
 "nbformat_minor": 5
}
