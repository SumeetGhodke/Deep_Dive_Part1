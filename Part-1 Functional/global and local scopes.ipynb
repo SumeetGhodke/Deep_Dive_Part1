{
 "cells": [
  {
   "cell_type": "markdown",
   "id": "e11f63f8",
   "metadata": {},
   "source": [
    "lexical scope of the variable is the portion of the code where we had define the variable "
   ]
  },
  {
   "cell_type": "markdown",
   "id": "d514a097",
   "metadata": {},
   "source": [
    "these binding are stored in namespace"
   ]
  },
  {
   "cell_type": "markdown",
   "id": "366ab224",
   "metadata": {},
   "source": [
    "# Local Scope"
   ]
  },
  {
   "cell_type": "raw",
   "id": "3961e758",
   "metadata": {},
   "source": [
    "varialbles defined inside a function are not created until the function is called"
   ]
  },
  {
   "cell_type": "raw",
   "id": "e1428a8f",
   "metadata": {},
   "source": [
    "def my_func(a,b):\n",
    "    c=a*b\n",
    "    return c\n",
    "\n",
    "here locals to my_func are  (a,b,c)\n",
    "\n",
    "my_func('z',2)   here locals are assigned as {a-> z;} {b-> 2} {c-> zz} "
   ]
  },
  {
   "cell_type": "raw",
   "id": "6a56bb2c",
   "metadata": {},
   "source": [
    "\n",
    "my_func(10,5)    \n",
    "\n",
    "here happens the same as above but they are present in different local spaces."
   ]
  },
  {
   "cell_type": "raw",
   "id": "4b1fa82e",
   "metadata": {},
   "source": [
    "                 \n",
    "                    module scope 1-------->> local scope\n",
    "build-in scope---->>               \n",
    "                    module scope 2-------->> local scope\n",
    "\n",
    "\n",
    "these are the nested scope"
   ]
  },
  {
   "cell_type": "code",
   "execution_count": 3,
   "id": "458cd2a6",
   "metadata": {},
   "outputs": [
    {
     "name": "stdout",
     "output_type": "stream",
     "text": [
      "100\n",
      "0\n"
     ]
    }
   ],
   "source": [
    "a=0                        #in global scope\n",
    "def addd():\n",
    "    a=100                  #in local scope this \n",
    "    print(a)\n",
    "addd()\n",
    "print(a)"
   ]
  },
  {
   "cell_type": "code",
   "execution_count": 4,
   "id": "98b1b8ba",
   "metadata": {},
   "outputs": [
    {
     "name": "stdout",
     "output_type": "stream",
     "text": [
      "100\n",
      "100\n"
     ]
    }
   ],
   "source": [
    "a=0                        # in global scope\n",
    "def addd():\n",
    "    global a               # here this line of code is refering to the global scope \n",
    "    a=100                  #in local scope this \n",
    "    print(a)\n",
    "addd()\n",
    "print(a)\n"
   ]
  },
  {
   "cell_type": "code",
   "execution_count": 5,
   "id": "c8574dd4",
   "metadata": {},
   "outputs": [],
   "source": [
    "a=6456\n",
    "def s():\n",
    "    print(a)\n",
    "    a=100"
   ]
  },
  {
   "cell_type": "code",
   "execution_count": 7,
   "id": "4f0d47bb",
   "metadata": {},
   "outputs": [
    {
     "ename": "UnboundLocalError",
     "evalue": "local variable 'a' referenced before assignment",
     "output_type": "error",
     "traceback": [
      "\u001b[1;31m---------------------------------------------------------------------------\u001b[0m",
      "\u001b[1;31mUnboundLocalError\u001b[0m                         Traceback (most recent call last)",
      "Input \u001b[1;32mIn [7]\u001b[0m, in \u001b[0;36m<cell line: 1>\u001b[1;34m()\u001b[0m\n\u001b[1;32m----> 1\u001b[0m \u001b[43ms\u001b[49m\u001b[43m(\u001b[49m\u001b[43m)\u001b[49m\n",
      "Input \u001b[1;32mIn [5]\u001b[0m, in \u001b[0;36ms\u001b[1;34m()\u001b[0m\n\u001b[0;32m      2\u001b[0m \u001b[38;5;28;01mdef\u001b[39;00m \u001b[38;5;21ms\u001b[39m():\n\u001b[1;32m----> 3\u001b[0m     \u001b[38;5;28mprint\u001b[39m(\u001b[43ma\u001b[49m)\n\u001b[0;32m      4\u001b[0m     a\u001b[38;5;241m=\u001b[39m\u001b[38;5;241m100\u001b[39m\n",
      "\u001b[1;31mUnboundLocalError\u001b[0m: local variable 'a' referenced before assignment"
     ]
    }
   ],
   "source": [
    "s()"
   ]
  },
  {
   "cell_type": "code",
   "execution_count": 9,
   "id": "60fdb7d8",
   "metadata": {},
   "outputs": [],
   "source": [
    "def fun():\n",
    "    global var\n",
    "    var='hello '\n",
    "    return var\n",
    "\n"
   ]
  },
  {
   "cell_type": "code",
   "execution_count": 10,
   "id": "5202048c",
   "metadata": {},
   "outputs": [
    {
     "ename": "NameError",
     "evalue": "name 'var' is not defined",
     "output_type": "error",
     "traceback": [
      "\u001b[1;31m---------------------------------------------------------------------------\u001b[0m",
      "\u001b[1;31mNameError\u001b[0m                                 Traceback (most recent call last)",
      "Input \u001b[1;32mIn [10]\u001b[0m, in \u001b[0;36m<cell line: 1>\u001b[1;34m()\u001b[0m\n\u001b[1;32m----> 1\u001b[0m \u001b[38;5;28mprint\u001b[39m(\u001b[43mvar\u001b[49m)\n",
      "\u001b[1;31mNameError\u001b[0m: name 'var' is not defined"
     ]
    }
   ],
   "source": [
    "print(var)"
   ]
  },
  {
   "cell_type": "code",
   "execution_count": 11,
   "id": "c7945596",
   "metadata": {},
   "outputs": [
    {
     "data": {
      "text/plain": [
       "'hello '"
      ]
     },
     "execution_count": 11,
     "metadata": {},
     "output_type": "execute_result"
    }
   ],
   "source": [
    "fun()"
   ]
  },
  {
   "cell_type": "code",
   "execution_count": 12,
   "id": "5613ad9e",
   "metadata": {},
   "outputs": [
    {
     "name": "stdout",
     "output_type": "stream",
     "text": [
      "hello \n"
     ]
    }
   ],
   "source": [
    "print(var)"
   ]
  },
  {
   "cell_type": "code",
   "execution_count": 13,
   "id": "c84078d8",
   "metadata": {},
   "outputs": [],
   "source": [
    "def print(x):\n",
    "    return x*2\n"
   ]
  },
  {
   "cell_type": "code",
   "execution_count": 17,
   "id": "4860ce71",
   "metadata": {},
   "outputs": [
    {
     "data": {
      "text/plain": [
       "'dfsddfsd'"
      ]
     },
     "execution_count": 17,
     "metadata": {},
     "output_type": "execute_result"
    }
   ],
   "source": [
    "print(4)\n",
    "print()\n",
    "print('dfsd')"
   ]
  },
  {
   "cell_type": "code",
   "execution_count": 19,
   "id": "e2212727",
   "metadata": {},
   "outputs": [
    {
     "ename": "TypeError",
     "evalue": "print() takes 1 positional argument but 2 were given",
     "output_type": "error",
     "traceback": [
      "\u001b[1;31m---------------------------------------------------------------------------\u001b[0m",
      "\u001b[1;31mTypeError\u001b[0m                                 Traceback (most recent call last)",
      "Input \u001b[1;32mIn [19]\u001b[0m, in \u001b[0;36m<cell line: 1>\u001b[1;34m()\u001b[0m\n\u001b[1;32m----> 1\u001b[0m \u001b[38;5;28;43mprint\u001b[39;49m\u001b[43m(\u001b[49m\u001b[38;5;124;43m\"\u001b[39;49m\u001b[38;5;124;43mdsfsdf\u001b[39;49m\u001b[38;5;124;43m\"\u001b[39;49m\u001b[43m,\u001b[49m\u001b[38;5;124;43m'\u001b[39;49m\u001b[38;5;124;43mdfds\u001b[39;49m\u001b[38;5;124;43m'\u001b[39;49m\u001b[43m)\u001b[49m\n",
      "\u001b[1;31mTypeError\u001b[0m: print() takes 1 positional argument but 2 were given"
     ]
    }
   ],
   "source": [
    "print(\"dsfsdf\",'dfds')"
   ]
  },
  {
   "cell_type": "code",
   "execution_count": 20,
   "id": "6c7ad3e9",
   "metadata": {},
   "outputs": [],
   "source": [
    "del print"
   ]
  },
  {
   "cell_type": "code",
   "execution_count": 21,
   "id": "910b8dcc",
   "metadata": {},
   "outputs": [
    {
     "name": "stdout",
     "output_type": "stream",
     "text": [
      "sdfdsf sdfsd\n"
     ]
    }
   ],
   "source": [
    "print(\"sdfdsf\",'sdfsd')"
   ]
  },
  {
   "cell_type": "code",
   "execution_count": null,
   "id": "cacd4c23",
   "metadata": {},
   "outputs": [],
   "source": []
  }
 ],
 "metadata": {
  "kernelspec": {
   "display_name": "Python 3 (ipykernel)",
   "language": "python",
   "name": "python3"
  },
  "language_info": {
   "codemirror_mode": {
    "name": "ipython",
    "version": 3
   },
   "file_extension": ".py",
   "mimetype": "text/x-python",
   "name": "python",
   "nbconvert_exporter": "python",
   "pygments_lexer": "ipython3",
   "version": "3.9.12"
  }
 },
 "nbformat": 4,
 "nbformat_minor": 5
}
