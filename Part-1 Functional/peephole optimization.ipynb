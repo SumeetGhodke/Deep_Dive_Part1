{
 "cells": [
  {
   "cell_type": "code",
   "execution_count": 1,
   "id": "e64ba993",
   "metadata": {},
   "outputs": [],
   "source": [
    "def my_func():\n",
    "    a = 24 * 60              # python will pre-calculated these values\n",
    "    b = (1, 2) * 5\n",
    "    c = 'abc' * 3\n",
    "    d = 'ab' * 11\n",
    "    e = 'the quick brown fox' * 10\n",
    "    f = [1, 2] * 5\n"
   ]
  },
  {
   "cell_type": "code",
   "execution_count": 2,
   "id": "c8dc4900",
   "metadata": {},
   "outputs": [
    {
     "data": {
      "text/plain": [
       "(None,\n",
       " 1440,\n",
       " (1, 2, 1, 2, 1, 2, 1, 2, 1, 2),\n",
       " 'abcabcabc',\n",
       " 'ababababababababababab',\n",
       " 'the quick brown foxthe quick brown foxthe quick brown foxthe quick brown foxthe quick brown foxthe quick brown foxthe quick brown foxthe quick brown foxthe quick brown foxthe quick brown fox',\n",
       " 1,\n",
       " 2,\n",
       " 5)"
      ]
     },
     "execution_count": 2,
     "metadata": {},
     "output_type": "execute_result"
    }
   ],
   "source": [
    "my_func.__code__.co_consts"
   ]
  },
  {
   "cell_type": "markdown",
   "id": "929f6708",
   "metadata": {},
   "source": [
    "And also the strings whose len<20 character will be pre-calculated by python"
   ]
  },
  {
   "cell_type": "markdown",
   "id": "de871814",
   "metadata": {},
   "source": [
    "a='hello'+'wolrd'     \n",
    "this will be pre-calculated by python manager"
   ]
  },
  {
   "cell_type": "markdown",
   "id": "f0f70b72",
   "metadata": {},
   "source": [
    "# Membership Tests"
   ]
  },
  {
   "cell_type": "code",
   "execution_count": 3,
   "id": "61e4585b",
   "metadata": {},
   "outputs": [],
   "source": [
    "def my_func():\n",
    "    if e in [1, 2, 3]:\n",
    "        pass"
   ]
  },
  {
   "cell_type": "code",
   "execution_count": 4,
   "id": "0f460161",
   "metadata": {},
   "outputs": [
    {
     "data": {
      "text/plain": [
       "(None, (1, 2, 3))"
      ]
     },
     "execution_count": 4,
     "metadata": {},
     "output_type": "execute_result"
    }
   ],
   "source": [
    "my_func.__code__.co_consts"
   ]
  },
  {
   "cell_type": "raw",
   "id": "139ad823",
   "metadata": {},
   "source": [
    "As you can see, the mutable list `[1, 2, 3]` was converted to an immutable tuple. \n",
    "\n",
    "It is OK to do this here, since we are testing membership of the list **at that point in time**, \n",
    "hence it is safe to convert it to a tuple, which is more efficient than testing membership of a list."
   ]
  },
  {
   "cell_type": "code",
   "execution_count": 9,
   "id": "f52c00ef",
   "metadata": {},
   "outputs": [],
   "source": [
    "import string\n",
    "import time \n",
    "\n",
    "char_list = list(string.ascii_letters)\n",
    "char_tuple = tuple(string.ascii_letters)\n",
    "char_set = set(string.ascii_letters)\n"
   ]
  },
  {
   "cell_type": "code",
   "execution_count": 10,
   "id": "7e8288f2",
   "metadata": {},
   "outputs": [],
   "source": [
    "import time\n",
    "def membership_test(n, container):\n",
    "    for i in range(n):\n",
    "        if 'p' in container:\n",
    "            pass"
   ]
  },
  {
   "cell_type": "code",
   "execution_count": 11,
   "id": "fbdca5c7",
   "metadata": {},
   "outputs": [
    {
     "name": "stdout",
     "output_type": "stream",
     "text": [
      "list membership:  3.184657199999947\n"
     ]
    }
   ],
   "source": [
    "start = time.perf_counter()\n",
    "membership_test(10000000, char_list)\n",
    "end = time.perf_counter()\n",
    "print('list membership: ', end-start)"
   ]
  },
  {
   "cell_type": "code",
   "execution_count": 12,
   "id": "6ff9aeab",
   "metadata": {},
   "outputs": [
    {
     "name": "stdout",
     "output_type": "stream",
     "text": [
      "tuple membership:  3.1300883000000113\n"
     ]
    }
   ],
   "source": [
    "start = time.perf_counter()\n",
    "membership_test(10000000, char_tuple)\n",
    "end = time.perf_counter()\n",
    "print('tuple membership: ', end-start)"
   ]
  },
  {
   "cell_type": "code",
   "execution_count": 13,
   "id": "53710cbf",
   "metadata": {},
   "outputs": [
    {
     "name": "stdout",
     "output_type": "stream",
     "text": [
      "set membership:  0.48157370000001265\n"
     ]
    }
   ],
   "source": [
    "start = time.perf_counter()\n",
    "membership_test(10000000, char_set)\n",
    "end = time.perf_counter()\n",
    "print('set membership: ', end-start)"
   ]
  },
  {
   "cell_type": "markdown",
   "id": "f301abd0",
   "metadata": {},
   "source": [
    "set membership tests runs a bit more faster than list and tuples"
   ]
  },
  {
   "cell_type": "code",
   "execution_count": 14,
   "id": "eff73928",
   "metadata": {},
   "outputs": [],
   "source": []
  },
  {
   "cell_type": "code",
   "execution_count": 15,
   "id": "fbbfe67b",
   "metadata": {},
   "outputs": [
    {
     "name": "stdout",
     "output_type": "stream",
     "text": [
      "3/4\n"
     ]
    }
   ],
   "source": [
    "print(x)"
   ]
  },
  {
   "cell_type": "code",
   "execution_count": 17,
   "id": "97da59af",
   "metadata": {},
   "outputs": [
    {
     "data": {
      "text/plain": [
       "Fraction(-1, 4)"
      ]
     },
     "execution_count": 17,
     "metadata": {},
     "output_type": "execute_result"
    }
   ],
   "source": [
    "Fraction(1, -4) "
   ]
  },
  {
   "cell_type": "code",
   "execution_count": null,
   "id": "7370f7fd",
   "metadata": {},
   "outputs": [],
   "source": []
  }
 ],
 "metadata": {
  "kernelspec": {
   "display_name": "Python 3 (ipykernel)",
   "language": "python",
   "name": "python3"
  },
  "language_info": {
   "codemirror_mode": {
    "name": "ipython",
    "version": 3
   },
   "file_extension": ".py",
   "mimetype": "text/x-python",
   "name": "python",
   "nbconvert_exporter": "python",
   "pygments_lexer": "ipython3",
   "version": "3.9.12"
  }
 },
 "nbformat": 4,
 "nbformat_minor": 5
}
