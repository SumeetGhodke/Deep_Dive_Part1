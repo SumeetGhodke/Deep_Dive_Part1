{
 "cells": [
  {
   "cell_type": "code",
   "execution_count": 1,
   "id": "4b952f5e",
   "metadata": {},
   "outputs": [],
   "source": [
    "a=(10,12,13)\n",
    "b=10,23,56"
   ]
  },
  {
   "cell_type": "code",
   "execution_count": 2,
   "id": "97bd9921",
   "metadata": {},
   "outputs": [
    {
     "data": {
      "text/plain": [
       "tuple"
      ]
     },
     "execution_count": 2,
     "metadata": {},
     "output_type": "execute_result"
    }
   ],
   "source": [
    "type(a)\n",
    "type(b)"
   ]
  },
  {
   "cell_type": "raw",
   "id": "b5272a68",
   "metadata": {},
   "source": [
    "sometimes we need to use paranthesis () while defining tuple"
   ]
  },
  {
   "cell_type": "code",
   "execution_count": 12,
   "id": "31d76348",
   "metadata": {},
   "outputs": [],
   "source": [
    "a=1,2,3,4,5,6\n"
   ]
  },
  {
   "cell_type": "code",
   "execution_count": 13,
   "id": "a7cbc2ae",
   "metadata": {},
   "outputs": [],
   "source": [
    "x, *others,y,z=a\n"
   ]
  },
  {
   "cell_type": "code",
   "execution_count": 14,
   "id": "f4a21f5f",
   "metadata": {},
   "outputs": [
    {
     "data": {
      "text/plain": [
       "1"
      ]
     },
     "execution_count": 14,
     "metadata": {},
     "output_type": "execute_result"
    }
   ],
   "source": [
    "x"
   ]
  },
  {
   "cell_type": "code",
   "execution_count": 15,
   "id": "38be2dbd",
   "metadata": {},
   "outputs": [
    {
     "data": {
      "text/plain": [
       "[2, 3, 4]"
      ]
     },
     "execution_count": 15,
     "metadata": {},
     "output_type": "execute_result"
    }
   ],
   "source": [
    "others"
   ]
  },
  {
   "cell_type": "code",
   "execution_count": 16,
   "id": "95c33e73",
   "metadata": {},
   "outputs": [
    {
     "data": {
      "text/plain": [
       "6"
      ]
     },
     "execution_count": 16,
     "metadata": {},
     "output_type": "execute_result"
    }
   ],
   "source": [
    "z"
   ]
  },
  {
   "cell_type": "code",
   "execution_count": 17,
   "id": "15ba6caa",
   "metadata": {},
   "outputs": [
    {
     "data": {
      "text/plain": [
       "6"
      ]
     },
     "execution_count": 17,
     "metadata": {},
     "output_type": "execute_result"
    }
   ],
   "source": [
    "_"
   ]
  },
  {
   "cell_type": "code",
   "execution_count": 18,
   "id": "71e94ac2",
   "metadata": {},
   "outputs": [
    {
     "ename": "TypeError",
     "evalue": "'tuple' object does not support item assignment",
     "output_type": "error",
     "traceback": [
      "\u001b[1;31m---------------------------------------------------------------------------\u001b[0m",
      "\u001b[1;31mTypeError\u001b[0m                                 Traceback (most recent call last)",
      "Input \u001b[1;32mIn [18]\u001b[0m, in \u001b[0;36m<cell line: 1>\u001b[1;34m()\u001b[0m\n\u001b[1;32m----> 1\u001b[0m a[\u001b[38;5;241m0\u001b[39m]\u001b[38;5;241m=\u001b[39m\u001b[38;5;241m100\u001b[39m\n",
      "\u001b[1;31mTypeError\u001b[0m: 'tuple' object does not support item assignment"
     ]
    }
   ],
   "source": [
    "a[0]=100"
   ]
  },
  {
   "cell_type": "raw",
   "id": "17c580ac",
   "metadata": {},
   "source": [
    "we are not changing the tuple we are changing its content"
   ]
  },
  {
   "cell_type": "code",
   "execution_count": 19,
   "id": "70716699",
   "metadata": {},
   "outputs": [],
   "source": [
    "a=1,2,3,4"
   ]
  },
  {
   "cell_type": "code",
   "execution_count": 20,
   "id": "d7a57c84",
   "metadata": {},
   "outputs": [
    {
     "data": {
      "text/plain": [
       "2763267082576"
      ]
     },
     "execution_count": 20,
     "metadata": {},
     "output_type": "execute_result"
    }
   ],
   "source": [
    "id(a)"
   ]
  },
  {
   "cell_type": "code",
   "execution_count": 21,
   "id": "d52d25f3",
   "metadata": {},
   "outputs": [],
   "source": [
    "a+=6,7,8,5"
   ]
  },
  {
   "cell_type": "code",
   "execution_count": 22,
   "id": "4b1d59ac",
   "metadata": {},
   "outputs": [
    {
     "data": {
      "text/plain": [
       "(1, 2, 3, 4, 6, 7, 8, 5)"
      ]
     },
     "execution_count": 22,
     "metadata": {},
     "output_type": "execute_result"
    }
   ],
   "source": [
    "a"
   ]
  },
  {
   "cell_type": "code",
   "execution_count": 23,
   "id": "14310d3c",
   "metadata": {},
   "outputs": [
    {
     "data": {
      "text/plain": [
       "2763266991168"
      ]
     },
     "execution_count": 23,
     "metadata": {},
     "output_type": "execute_result"
    }
   ],
   "source": [
    "id(a)"
   ]
  },
  {
   "cell_type": "raw",
   "id": "7849b9f3",
   "metadata": {},
   "source": [
    "here id of a is change"
   ]
  },
  {
   "cell_type": "code",
   "execution_count": 28,
   "id": "eaa675c1",
   "metadata": {},
   "outputs": [],
   "source": [
    "b=1,2,3,4"
   ]
  },
  {
   "cell_type": "code",
   "execution_count": 29,
   "id": "2dc3092b",
   "metadata": {},
   "outputs": [
    {
     "data": {
      "text/plain": [
       "2763267080256"
      ]
     },
     "execution_count": 29,
     "metadata": {},
     "output_type": "execute_result"
    }
   ],
   "source": [
    "id(b)"
   ]
  },
  {
   "cell_type": "code",
   "execution_count": 25,
   "id": "9852ac81",
   "metadata": {},
   "outputs": [],
   "source": [
    "b=1"
   ]
  },
  {
   "cell_type": "code",
   "execution_count": 26,
   "id": "39b3ed41",
   "metadata": {},
   "outputs": [
    {
     "name": "stdout",
     "output_type": "stream",
     "text": [
      "1\n"
     ]
    }
   ],
   "source": [
    "print(b)"
   ]
  },
  {
   "cell_type": "code",
   "execution_count": 27,
   "id": "c5cbbc7d",
   "metadata": {},
   "outputs": [
    {
     "data": {
      "text/plain": [
       "2763152386352"
      ]
     },
     "execution_count": 27,
     "metadata": {},
     "output_type": "execute_result"
    }
   ],
   "source": [
    "id(b)"
   ]
  },
  {
   "cell_type": "code",
   "execution_count": 30,
   "id": "81e98459",
   "metadata": {},
   "outputs": [],
   "source": [
    "london = 'London', 'UK', 8_780_000\n",
    "new_york = 'New York', 'USA', 8_500_000\n",
    "beijing = 'Beijing', 'China', 21_000_000"
   ]
  },
  {
   "cell_type": "code",
   "execution_count": 31,
   "id": "f77a0785",
   "metadata": {},
   "outputs": [
    {
     "data": {
      "text/plain": [
       "('London', 'UK', 8780000)"
      ]
     },
     "execution_count": 31,
     "metadata": {},
     "output_type": "execute_result"
    }
   ],
   "source": [
    "london"
   ]
  },
  {
   "cell_type": "code",
   "execution_count": 32,
   "id": "b0e5fa9b",
   "metadata": {},
   "outputs": [],
   "source": [
    "cities=[london,new_york,beijing]"
   ]
  },
  {
   "cell_type": "code",
   "execution_count": 33,
   "id": "eb8fd69d",
   "metadata": {},
   "outputs": [
    {
     "name": "stdout",
     "output_type": "stream",
     "text": [
      "38280000\n"
     ]
    }
   ],
   "source": [
    "total=0\n",
    "for city in cities:\n",
    "    total+=city[2]\n",
    "print(total)"
   ]
  },
  {
   "cell_type": "code",
   "execution_count": 36,
   "id": "579c0b14",
   "metadata": {},
   "outputs": [
    {
     "data": {
      "text/plain": [
       "38280000"
      ]
     },
     "execution_count": 36,
     "metadata": {},
     "output_type": "execute_result"
    }
   ],
   "source": [
    "sum(city[2] for city in cities)"
   ]
  },
  {
   "cell_type": "code",
   "execution_count": 46,
   "id": "b3868e16",
   "metadata": {},
   "outputs": [],
   "source": [
    "record = 'DJIA', 2018, 1, 19, 25_987, 26_072, 25_942, 26_072\n"
   ]
  },
  {
   "cell_type": "code",
   "execution_count": 47,
   "id": "46f98a1e",
   "metadata": {},
   "outputs": [],
   "source": [
    "symbol, year, month, day, open_, high, low, close = record"
   ]
  },
  {
   "cell_type": "code",
   "execution_count": 48,
   "id": "aaff2e8a",
   "metadata": {},
   "outputs": [
    {
     "data": {
      "text/plain": [
       "'DJIA'"
      ]
     },
     "execution_count": 48,
     "metadata": {},
     "output_type": "execute_result"
    }
   ],
   "source": [
    "symbol\n"
   ]
  },
  {
   "cell_type": "code",
   "execution_count": 49,
   "id": "b920f546",
   "metadata": {},
   "outputs": [
    {
     "data": {
      "text/plain": [
       "25942"
      ]
     },
     "execution_count": 49,
     "metadata": {},
     "output_type": "execute_result"
    }
   ],
   "source": [
    "low"
   ]
  },
  {
   "cell_type": "code",
   "execution_count": 50,
   "id": "04ee2893",
   "metadata": {},
   "outputs": [
    {
     "data": {
      "text/plain": [
       "26072"
      ]
     },
     "execution_count": 50,
     "metadata": {},
     "output_type": "execute_result"
    }
   ],
   "source": [
    "close"
   ]
  },
  {
   "cell_type": "code",
   "execution_count": 51,
   "id": "025c27ec",
   "metadata": {},
   "outputs": [
    {
     "data": {
      "text/plain": [
       "1"
      ]
     },
     "execution_count": 51,
     "metadata": {},
     "output_type": "execute_result"
    }
   ],
   "source": [
    "month"
   ]
  },
  {
   "cell_type": "code",
   "execution_count": 52,
   "id": "68c1ef54",
   "metadata": {},
   "outputs": [],
   "source": [
    "symbol,*_, close=record"
   ]
  },
  {
   "cell_type": "code",
   "execution_count": 53,
   "id": "e4f498ab",
   "metadata": {},
   "outputs": [
    {
     "name": "stdout",
     "output_type": "stream",
     "text": [
      "[2018, 1, 19, 25987, 26072, 25942]\n"
     ]
    }
   ],
   "source": [
    "print(_)"
   ]
  },
  {
   "cell_type": "code",
   "execution_count": 54,
   "id": "43143c61",
   "metadata": {},
   "outputs": [
    {
     "name": "stdout",
     "output_type": "stream",
     "text": [
      "(0, ('London', 'UK', 8780000))\n",
      "(1, ('New York', 'USA', 8500000))\n",
      "(2, ('Beijing', 'China', 21000000))\n"
     ]
    }
   ],
   "source": [
    "for item in enumerate(cities):\n",
    "    print(item)"
   ]
  },
  {
   "cell_type": "code",
   "execution_count": null,
   "id": "7a5d674e",
   "metadata": {},
   "outputs": [],
   "source": []
  }
 ],
 "metadata": {
  "kernelspec": {
   "display_name": "Python 3 (ipykernel)",
   "language": "python",
   "name": "python3"
  },
  "language_info": {
   "codemirror_mode": {
    "name": "ipython",
    "version": 3
   },
   "file_extension": ".py",
   "mimetype": "text/x-python",
   "name": "python",
   "nbconvert_exporter": "python",
   "pygments_lexer": "ipython3",
   "version": "3.9.12"
  }
 },
 "nbformat": 4,
 "nbformat_minor": 5
}
