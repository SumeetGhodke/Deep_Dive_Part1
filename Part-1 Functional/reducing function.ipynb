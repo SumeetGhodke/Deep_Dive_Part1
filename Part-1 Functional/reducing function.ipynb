{
 "cells": [
  {
   "cell_type": "markdown",
   "id": "3ee42b06",
   "metadata": {},
   "source": [
    "reduce(fun,seq)\n"
   ]
  },
  {
   "cell_type": "code",
   "execution_count": 6,
   "id": "27634b29",
   "metadata": {},
   "outputs": [
    {
     "name": "stdout",
     "output_type": "stream",
     "text": [
      "the sum is 17\n",
      "the max of elements is 6\n"
     ]
    }
   ],
   "source": [
    "import functools\n",
    "lis = [1, 3, 5, 6, 2]\n",
    "\n",
    "print('the sum is ',end=\"\")\n",
    "print(functools.reduce(lambda a,b:a+b,lis))\n",
    "\n",
    "print(\"the max of elements is\",end=\" \" )\n",
    "print(functools.reduce(lambda a,b: a if a>b else b,lis))"
   ]
  },
  {
   "cell_type": "markdown",
   "id": "5c2b23cc",
   "metadata": {},
   "source": [
    "# Using Operator Functions"
   ]
  },
  {
   "cell_type": "code",
   "execution_count": 8,
   "id": "7db710fc",
   "metadata": {},
   "outputs": [
    {
     "name": "stdout",
     "output_type": "stream",
     "text": [
      "sum of elements is17\n",
      "17\n"
     ]
    }
   ],
   "source": [
    "import operator\n",
    "\n",
    "print(\"sum of elements is\", end=\"\")\n",
    "print(functools.reduce(lambda a,b:a+b,lis))\n",
    "print(functools.reduce(operator.add,lis))\n"
   ]
  },
  {
   "cell_type": "code",
   "execution_count": 10,
   "id": "a1679838",
   "metadata": {},
   "outputs": [
    {
     "name": "stdout",
     "output_type": "stream",
     "text": [
      "multiplication of elements is 180\n",
      "180\n"
     ]
    }
   ],
   "source": [
    "print(\"multiplication of elements is \", end=\"\")\n",
    "print(functools.reduce(lambda a,b:a*b,lis))\n",
    "print(functools.reduce(operator.mul,lis))\n"
   ]
  },
  {
   "cell_type": "markdown",
   "id": "e4ca52a4",
   "metadata": {},
   "source": [
    "reduce() is defined in “functools” module, accumulate() in “itertools” module."
   ]
  },
  {
   "cell_type": "markdown",
   "id": "e056b7eb",
   "metadata": {},
   "source": [
    "accumulate() returns a iterator containing the intermediate results. "
   ]
  },
  {
   "cell_type": "raw",
   "id": "5ca48fcb",
   "metadata": {},
   "source": [
    "reduce(fun, seq) takes function as 1st and sequence as 2nd argument.\n",
    "\n",
    "\n",
    "In contrast accumulate(seq, fun) takes sequence as 1st argument and function as 2nd argument."
   ]
  },
  {
   "cell_type": "code",
   "execution_count": 12,
   "id": "d49d8c8d",
   "metadata": {},
   "outputs": [
    {
     "name": "stdout",
     "output_type": "stream",
     "text": [
      "The summation of list using accumulate is :[1, 4, 8, 18, 22]\n",
      "The summation of list using reduce is :22\n"
     ]
    }
   ],
   "source": [
    "\n",
    "# importing itertools for accumulate()\n",
    "import itertools\n",
    "\n",
    "# initializing list\n",
    "lis = [1, 3, 4, 10, 4]\n",
    "\n",
    "# printing summation using accumulate()\n",
    "print(\"The summation of list using accumulate is :\", end=\"\")\n",
    "print(list(itertools.accumulate(lis, lambda x, y: x+y))) # stores intermediate result\n",
    "\n",
    "# printing summation using reduce()\n",
    "print(\"The summation of list using reduce is :\", end=\"\")\n",
    "print(functools.reduce(lambda x, y: x+y, lis))     # stores last result only\n"
   ]
  },
  {
   "cell_type": "code",
   "execution_count": null,
   "id": "9de21a17",
   "metadata": {},
   "outputs": [],
   "source": []
  }
 ],
 "metadata": {
  "kernelspec": {
   "display_name": "Python 3 (ipykernel)",
   "language": "python",
   "name": "python3"
  },
  "language_info": {
   "codemirror_mode": {
    "name": "ipython",
    "version": 3
   },
   "file_extension": ".py",
   "mimetype": "text/x-python",
   "name": "python",
   "nbconvert_exporter": "python",
   "pygments_lexer": "ipython3",
   "version": "3.9.12"
  }
 },
 "nbformat": 4,
 "nbformat_minor": 5
}
